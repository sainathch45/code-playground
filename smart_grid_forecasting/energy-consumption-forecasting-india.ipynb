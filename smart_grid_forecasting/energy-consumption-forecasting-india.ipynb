{
 "cells": [
  {
   "cell_type": "code",
   "execution_count": 5,
   "id": "a2eb2342",
   "metadata": {
    "_cell_guid": "b1076dfc-b9ad-4769-8c92-a6c4dae69d19",
    "_uuid": "8f2839f25d086af736a60e9eeb907d3b93b6e0e5",
    "execution": {
     "iopub.execute_input": "2024-10-30T11:41:26.101696Z",
     "iopub.status.busy": "2024-10-30T11:41:26.100412Z",
     "iopub.status.idle": "2024-10-30T11:41:27.146219Z",
     "shell.execute_reply": "2024-10-30T11:41:27.144986Z"
    },
    "papermill": {
     "duration": 1.064155,
     "end_time": "2024-10-30T11:41:27.148785",
     "exception": false,
     "start_time": "2024-10-30T11:41:26.084630",
     "status": "completed"
    },
    "tags": []
   },
   "outputs": [],
   "source": [
    "# This Python 3 environment comes with many helpful analytics libraries installed\n",
    "# It is defined by the kaggle/python Docker image: https://github.com/kaggle/docker-python\n",
    "# For example, here's several helpful packages to load\n",
    "\n",
    "import numpy as np # linear algebra\n",
    "import pandas as pd # data processing, CSV file I/O (e.g. pd.read_csv)\n",
    "\n",
    "# Input data files are available in the read-only \"../input/\" directory\n",
    "# For example, running this (by clicking run or pressing Shift+Enter) will list all files under the input directory\n",
    "\n",
    "import os\n",
    "for dirname, _, filenames in os.walk('/kaggle/input'):\n",
    "    for filename in filenames:\n",
    "        print(os.path.join(dirname, filename))\n",
    "\n",
    "# You can write up to 20GB to the current directory (/kaggle/working/) that gets preserved as output when you create a version using \"Save & Run All\" \n",
    "# You can also write temporary files to /kaggle/temp/, but they won't be saved outside of the current session"
   ]
  },
  {
   "cell_type": "code",
   "execution_count": 6,
   "id": "bd3469e3",
   "metadata": {
    "execution": {
     "iopub.execute_input": "2024-10-30T11:41:27.179978Z",
     "iopub.status.busy": "2024-10-30T11:41:27.179030Z",
     "iopub.status.idle": "2024-10-30T11:41:41.057603Z",
     "shell.execute_reply": "2024-10-30T11:41:41.056141Z"
    },
    "papermill": {
     "duration": 13.897016,
     "end_time": "2024-10-30T11:41:41.060506",
     "exception": false,
     "start_time": "2024-10-30T11:41:27.163490",
     "status": "completed"
    },
    "tags": []
   },
   "outputs": [
    {
     "name": "stdout",
     "output_type": "stream",
     "text": [
      "Collecting pmdarima\n",
      "  Downloading pmdarima-2.0.4-cp311-cp311-win_amd64.whl.metadata (8.0 kB)\n",
      "Requirement already satisfied: joblib>=0.11 in c:\\users\\saich\\anaconda3\\lib\\site-packages (from pmdarima) (1.2.0)\n",
      "Collecting Cython!=0.29.18,!=0.29.31,>=0.29 (from pmdarima)\n",
      "  Downloading Cython-3.0.12-cp311-cp311-win_amd64.whl.metadata (3.6 kB)\n",
      "Requirement already satisfied: numpy>=1.21.2 in c:\\users\\saich\\anaconda3\\lib\\site-packages (from pmdarima) (1.26.4)\n",
      "Requirement already satisfied: pandas>=0.19 in c:\\users\\saich\\anaconda3\\lib\\site-packages (from pmdarima) (2.1.4)\n",
      "Requirement already satisfied: scikit-learn>=0.22 in c:\\users\\saich\\anaconda3\\lib\\site-packages (from pmdarima) (1.2.2)\n",
      "Requirement already satisfied: scipy>=1.3.2 in c:\\users\\saich\\anaconda3\\lib\\site-packages (from pmdarima) (1.11.4)\n",
      "Requirement already satisfied: statsmodels>=0.13.2 in c:\\users\\saich\\anaconda3\\lib\\site-packages (from pmdarima) (0.14.0)\n",
      "Requirement already satisfied: urllib3 in c:\\users\\saich\\anaconda3\\lib\\site-packages (from pmdarima) (2.0.7)\n",
      "Requirement already satisfied: setuptools!=50.0.0,>=38.6.0 in c:\\users\\saich\\anaconda3\\lib\\site-packages (from pmdarima) (68.2.2)\n",
      "Requirement already satisfied: packaging>=17.1 in c:\\users\\saich\\anaconda3\\lib\\site-packages (from pmdarima) (23.1)\n",
      "Requirement already satisfied: python-dateutil>=2.8.2 in c:\\users\\saich\\anaconda3\\lib\\site-packages (from pandas>=0.19->pmdarima) (2.8.2)\n",
      "Requirement already satisfied: pytz>=2020.1 in c:\\users\\saich\\anaconda3\\lib\\site-packages (from pandas>=0.19->pmdarima) (2023.3.post1)\n",
      "Requirement already satisfied: tzdata>=2022.1 in c:\\users\\saich\\anaconda3\\lib\\site-packages (from pandas>=0.19->pmdarima) (2023.3)\n",
      "Requirement already satisfied: threadpoolctl>=2.0.0 in c:\\users\\saich\\anaconda3\\lib\\site-packages (from scikit-learn>=0.22->pmdarima) (2.2.0)\n",
      "Requirement already satisfied: patsy>=0.5.2 in c:\\users\\saich\\anaconda3\\lib\\site-packages (from statsmodels>=0.13.2->pmdarima) (0.5.3)\n",
      "Requirement already satisfied: six in c:\\users\\saich\\anaconda3\\lib\\site-packages (from patsy>=0.5.2->statsmodels>=0.13.2->pmdarima) (1.16.0)\n",
      "Downloading pmdarima-2.0.4-cp311-cp311-win_amd64.whl (614 kB)\n",
      "   ---------------------------------------- 0.0/614.7 kB ? eta -:--:--\n",
      "   ---------------------------------------- 614.7/614.7 kB 4.5 MB/s eta 0:00:00\n",
      "Downloading Cython-3.0.12-cp311-cp311-win_amd64.whl (2.8 MB)\n",
      "   ---------------------------------------- 0.0/2.8 MB ? eta -:--:--\n",
      "   -------------------------- ------------- 1.8/2.8 MB 10.1 MB/s eta 0:00:01\n",
      "   ---------------------------------------- 2.8/2.8 MB 9.5 MB/s eta 0:00:00\n",
      "Installing collected packages: Cython, pmdarima\n",
      "Successfully installed Cython-3.0.12 pmdarima-2.0.4\n",
      "Note: you may need to restart the kernel to use updated packages.\n"
     ]
    }
   ],
   "source": [
    "%pip install pmdarima"
   ]
  },
  {
   "cell_type": "code",
   "execution_count": 7,
   "id": "3125a6a2",
   "metadata": {
    "execution": {
     "iopub.execute_input": "2024-10-30T11:41:41.093101Z",
     "iopub.status.busy": "2024-10-30T11:41:41.091930Z",
     "iopub.status.idle": "2024-10-30T11:41:52.939270Z",
     "shell.execute_reply": "2024-10-30T11:41:52.937676Z"
    },
    "papermill": {
     "duration": 11.866813,
     "end_time": "2024-10-30T11:41:52.942268",
     "exception": false,
     "start_time": "2024-10-30T11:41:41.075455",
     "status": "completed"
    },
    "tags": []
   },
   "outputs": [
    {
     "name": "stdout",
     "output_type": "stream",
     "text": [
      "Requirement already satisfied: statsmodels in c:\\users\\saich\\anaconda3\\lib\\site-packages (0.14.0)\n",
      "Requirement already satisfied: numpy>=1.18 in c:\\users\\saich\\anaconda3\\lib\\site-packages (from statsmodels) (1.26.4)\n",
      "Requirement already satisfied: scipy!=1.9.2,>=1.4 in c:\\users\\saich\\anaconda3\\lib\\site-packages (from statsmodels) (1.11.4)\n",
      "Requirement already satisfied: pandas>=1.0 in c:\\users\\saich\\anaconda3\\lib\\site-packages (from statsmodels) (2.1.4)\n",
      "Requirement already satisfied: patsy>=0.5.2 in c:\\users\\saich\\anaconda3\\lib\\site-packages (from statsmodels) (0.5.3)\n",
      "Requirement already satisfied: packaging>=21.3 in c:\\users\\saich\\anaconda3\\lib\\site-packages (from statsmodels) (23.1)\n",
      "Requirement already satisfied: python-dateutil>=2.8.2 in c:\\users\\saich\\anaconda3\\lib\\site-packages (from pandas>=1.0->statsmodels) (2.8.2)\n",
      "Requirement already satisfied: pytz>=2020.1 in c:\\users\\saich\\anaconda3\\lib\\site-packages (from pandas>=1.0->statsmodels) (2023.3.post1)\n",
      "Requirement already satisfied: tzdata>=2022.1 in c:\\users\\saich\\anaconda3\\lib\\site-packages (from pandas>=1.0->statsmodels) (2023.3)\n",
      "Requirement already satisfied: six in c:\\users\\saich\\anaconda3\\lib\\site-packages (from patsy>=0.5.2->statsmodels) (1.16.0)\n"
     ]
    }
   ],
   "source": [
    "!pip install statsmodels"
   ]
  },
  {
   "cell_type": "markdown",
   "id": "97791118",
   "metadata": {
    "papermill": {
     "duration": 0.01437,
     "end_time": "2024-10-30T11:41:52.971993",
     "exception": false,
     "start_time": "2024-10-30T11:41:52.957623",
     "status": "completed"
    },
    "tags": []
   },
   "source": [
    "## Importing Libraries"
   ]
  },
  {
   "cell_type": "code",
   "execution_count": 8,
   "id": "b91ea7ae",
   "metadata": {
    "execution": {
     "iopub.execute_input": "2024-10-30T11:41:53.003323Z",
     "iopub.status.busy": "2024-10-30T11:41:53.002829Z",
     "iopub.status.idle": "2024-10-30T11:41:57.281213Z",
     "shell.execute_reply": "2024-10-30T11:41:57.279833Z"
    },
    "papermill": {
     "duration": 4.297195,
     "end_time": "2024-10-30T11:41:57.283873",
     "exception": false,
     "start_time": "2024-10-30T11:41:52.986678",
     "status": "completed"
    },
    "tags": []
   },
   "outputs": [],
   "source": [
    "import pandas as pd\n",
    "from pmdarima import auto_arima\n",
    "from statsmodels.tsa.statespace.sarimax import SARIMAX\n",
    "from sklearn.metrics import mean_squared_error\n",
    "import numpy as np\n",
    "import matplotlib.pyplot as plt\n",
    "from sklearn.model_selection import train_test_split\n",
    "import seaborn as sns\n",
    "from sklearn.preprocessing import OneHotEncoder"
   ]
  },
  {
   "cell_type": "markdown",
   "id": "b8b7cbc3",
   "metadata": {
    "papermill": {
     "duration": 0.014463,
     "end_time": "2024-10-30T11:41:57.312960",
     "exception": false,
     "start_time": "2024-10-30T11:41:57.298497",
     "status": "completed"
    },
    "tags": []
   },
   "source": [
    "## Load your dataset"
   ]
  },
  {
   "cell_type": "code",
   "execution_count": 10,
   "id": "2c3af13c",
   "metadata": {
    "execution": {
     "iopub.execute_input": "2024-10-30T11:41:57.344254Z",
     "iopub.status.busy": "2024-10-30T11:41:57.343630Z",
     "iopub.status.idle": "2024-10-30T11:41:57.388451Z",
     "shell.execute_reply": "2024-10-30T11:41:57.387212Z"
    },
    "papermill": {
     "duration": 0.063708,
     "end_time": "2024-10-30T11:41:57.391253",
     "exception": false,
     "start_time": "2024-10-30T11:41:57.327545",
     "status": "completed"
    },
    "tags": []
   },
   "outputs": [],
   "source": [
    "data = pd.read_csv('Datasets/long_data_.csv')"
   ]
  },
  {
   "cell_type": "markdown",
   "id": "053add94",
   "metadata": {
    "papermill": {
     "duration": 0.014712,
     "end_time": "2024-10-30T11:41:57.420692",
     "exception": false,
     "start_time": "2024-10-30T11:41:57.405980",
     "status": "completed"
    },
    "tags": []
   },
   "source": [
    "### Checking Dataset"
   ]
  },
  {
   "cell_type": "code",
   "execution_count": 11,
   "id": "bbeed528",
   "metadata": {
    "execution": {
     "iopub.execute_input": "2024-10-30T11:41:57.451770Z",
     "iopub.status.busy": "2024-10-30T11:41:57.451332Z",
     "iopub.status.idle": "2024-10-30T11:41:57.486006Z",
     "shell.execute_reply": "2024-10-30T11:41:57.484540Z"
    },
    "papermill": {
     "duration": 0.053579,
     "end_time": "2024-10-30T11:41:57.488641",
     "exception": false,
     "start_time": "2024-10-30T11:41:57.435062",
     "status": "completed"
    },
    "tags": []
   },
   "outputs": [
    {
     "data": {
      "text/html": [
       "<div>\n",
       "<style scoped>\n",
       "    .dataframe tbody tr th:only-of-type {\n",
       "        vertical-align: middle;\n",
       "    }\n",
       "\n",
       "    .dataframe tbody tr th {\n",
       "        vertical-align: top;\n",
       "    }\n",
       "\n",
       "    .dataframe thead th {\n",
       "        text-align: right;\n",
       "    }\n",
       "</style>\n",
       "<table border=\"1\" class=\"dataframe\">\n",
       "  <thead>\n",
       "    <tr style=\"text-align: right;\">\n",
       "      <th></th>\n",
       "      <th>States</th>\n",
       "      <th>Regions</th>\n",
       "      <th>latitude</th>\n",
       "      <th>longitude</th>\n",
       "      <th>Dates</th>\n",
       "      <th>Usage</th>\n",
       "    </tr>\n",
       "  </thead>\n",
       "  <tbody>\n",
       "    <tr>\n",
       "      <th>1680</th>\n",
       "      <td>Mizoram</td>\n",
       "      <td>NER</td>\n",
       "      <td>23.710399</td>\n",
       "      <td>92.720015</td>\n",
       "      <td>22/02/2019 00:00:00</td>\n",
       "      <td>1.7</td>\n",
       "    </tr>\n",
       "    <tr>\n",
       "      <th>12820</th>\n",
       "      <td>Telangana</td>\n",
       "      <td>SR</td>\n",
       "      <td>18.112400</td>\n",
       "      <td>79.019300</td>\n",
       "      <td>13/02/2020 00:00:00</td>\n",
       "      <td>165.9</td>\n",
       "    </tr>\n",
       "    <tr>\n",
       "      <th>2577</th>\n",
       "      <td>Delhi</td>\n",
       "      <td>NR</td>\n",
       "      <td>28.669993</td>\n",
       "      <td>77.230004</td>\n",
       "      <td>23/03/2019 00:00:00</td>\n",
       "      <td>63.5</td>\n",
       "    </tr>\n",
       "    <tr>\n",
       "      <th>10972</th>\n",
       "      <td>Telangana</td>\n",
       "      <td>SR</td>\n",
       "      <td>18.112400</td>\n",
       "      <td>79.019300</td>\n",
       "      <td>04/12/2019 00:00:00</td>\n",
       "      <td>169.8</td>\n",
       "    </tr>\n",
       "    <tr>\n",
       "      <th>1517</th>\n",
       "      <td>Tripura</td>\n",
       "      <td>NER</td>\n",
       "      <td>23.835404</td>\n",
       "      <td>91.279999</td>\n",
       "      <td>17/02/2019 00:00:00</td>\n",
       "      <td>3.7</td>\n",
       "    </tr>\n",
       "    <tr>\n",
       "      <th>15082</th>\n",
       "      <td>Haryana</td>\n",
       "      <td>NR</td>\n",
       "      <td>28.450006</td>\n",
       "      <td>77.019991</td>\n",
       "      <td>13/05/2020 00:00:00</td>\n",
       "      <td>106.9</td>\n",
       "    </tr>\n",
       "    <tr>\n",
       "      <th>10088</th>\n",
       "      <td>Odisha</td>\n",
       "      <td>ER</td>\n",
       "      <td>19.820430</td>\n",
       "      <td>85.900017</td>\n",
       "      <td>06/11/2019 00:00:00</td>\n",
       "      <td>77.9</td>\n",
       "    </tr>\n",
       "    <tr>\n",
       "      <th>4992</th>\n",
       "      <td>Chhattisgarh</td>\n",
       "      <td>WR</td>\n",
       "      <td>22.090420</td>\n",
       "      <td>82.159987</td>\n",
       "      <td>07/06/2019 00:00:00</td>\n",
       "      <td>73.9</td>\n",
       "    </tr>\n",
       "    <tr>\n",
       "      <th>3062</th>\n",
       "      <td>Arunachal Pradesh</td>\n",
       "      <td>NER</td>\n",
       "      <td>27.100399</td>\n",
       "      <td>93.616601</td>\n",
       "      <td>07/04/2019 00:00:00</td>\n",
       "      <td>2.2</td>\n",
       "    </tr>\n",
       "    <tr>\n",
       "      <th>14878</th>\n",
       "      <td>Manipur</td>\n",
       "      <td>NER</td>\n",
       "      <td>24.799971</td>\n",
       "      <td>93.950017</td>\n",
       "      <td>29/04/2020 00:00:00</td>\n",
       "      <td>2.7</td>\n",
       "    </tr>\n",
       "  </tbody>\n",
       "</table>\n",
       "</div>"
      ],
      "text/plain": [
       "                  States Regions   latitude  longitude                Dates  \\\n",
       "1680             Mizoram     NER  23.710399  92.720015  22/02/2019 00:00:00   \n",
       "12820          Telangana      SR  18.112400  79.019300  13/02/2020 00:00:00   \n",
       "2577               Delhi      NR  28.669993  77.230004  23/03/2019 00:00:00   \n",
       "10972          Telangana      SR  18.112400  79.019300  04/12/2019 00:00:00   \n",
       "1517             Tripura     NER  23.835404  91.279999  17/02/2019 00:00:00   \n",
       "15082            Haryana      NR  28.450006  77.019991  13/05/2020 00:00:00   \n",
       "10088             Odisha      ER  19.820430  85.900017  06/11/2019 00:00:00   \n",
       "4992        Chhattisgarh      WR  22.090420  82.159987  07/06/2019 00:00:00   \n",
       "3062   Arunachal Pradesh     NER  27.100399  93.616601  07/04/2019 00:00:00   \n",
       "14878            Manipur     NER  24.799971  93.950017  29/04/2020 00:00:00   \n",
       "\n",
       "       Usage  \n",
       "1680     1.7  \n",
       "12820  165.9  \n",
       "2577    63.5  \n",
       "10972  169.8  \n",
       "1517     3.7  \n",
       "15082  106.9  \n",
       "10088   77.9  \n",
       "4992    73.9  \n",
       "3062     2.2  \n",
       "14878    2.7  "
      ]
     },
     "execution_count": 11,
     "metadata": {},
     "output_type": "execute_result"
    }
   ],
   "source": [
    "data.sample(10)"
   ]
  },
  {
   "cell_type": "markdown",
   "id": "f5032c8b",
   "metadata": {
    "papermill": {
     "duration": 0.015056,
     "end_time": "2024-10-30T11:41:57.518612",
     "exception": false,
     "start_time": "2024-10-30T11:41:57.503556",
     "status": "completed"
    },
    "tags": []
   },
   "source": [
    "## Checking Missing Values"
   ]
  },
  {
   "cell_type": "code",
   "execution_count": 12,
   "id": "1d48bd77",
   "metadata": {
    "execution": {
     "iopub.execute_input": "2024-10-30T11:41:57.551562Z",
     "iopub.status.busy": "2024-10-30T11:41:57.551108Z",
     "iopub.status.idle": "2024-10-30T11:41:57.563642Z",
     "shell.execute_reply": "2024-10-30T11:41:57.562529Z"
    },
    "papermill": {
     "duration": 0.032688,
     "end_time": "2024-10-30T11:41:57.565950",
     "exception": false,
     "start_time": "2024-10-30T11:41:57.533262",
     "status": "completed"
    },
    "tags": []
   },
   "outputs": [
    {
     "data": {
      "text/plain": [
       "States       0\n",
       "Regions      0\n",
       "latitude     0\n",
       "longitude    0\n",
       "Dates        0\n",
       "Usage        0\n",
       "dtype: int64"
      ]
     },
     "execution_count": 12,
     "metadata": {},
     "output_type": "execute_result"
    }
   ],
   "source": [
    "data.isnull().sum()"
   ]
  },
  {
   "cell_type": "markdown",
   "id": "9d562700",
   "metadata": {
    "papermill": {
     "duration": 0.014684,
     "end_time": "2024-10-30T11:41:57.595478",
     "exception": false,
     "start_time": "2024-10-30T11:41:57.580794",
     "status": "completed"
    },
    "tags": []
   },
   "source": [
    "#### Convert 'Dates' column to datetime"
   ]
  },
  {
   "cell_type": "code",
   "execution_count": 13,
   "id": "343bb997",
   "metadata": {
    "execution": {
     "iopub.execute_input": "2024-10-30T11:41:57.627624Z",
     "iopub.status.busy": "2024-10-30T11:41:57.627183Z",
     "iopub.status.idle": "2024-10-30T11:41:57.649167Z",
     "shell.execute_reply": "2024-10-30T11:41:57.647944Z"
    },
    "papermill": {
     "duration": 0.041472,
     "end_time": "2024-10-30T11:41:57.651826",
     "exception": false,
     "start_time": "2024-10-30T11:41:57.610354",
     "status": "completed"
    },
    "tags": []
   },
   "outputs": [],
   "source": [
    "data['Dates'] = pd.to_datetime(data['Dates'], format='%d/%m/%Y %H:%M:%S', dayfirst=True)"
   ]
  },
  {
   "cell_type": "markdown",
   "id": "d44c4fbf",
   "metadata": {
    "papermill": {
     "duration": 0.014689,
     "end_time": "2024-10-30T11:41:57.681441",
     "exception": false,
     "start_time": "2024-10-30T11:41:57.666752",
     "status": "completed"
    },
    "tags": []
   },
   "source": [
    "Set the 'Dates' column as the index"
   ]
  },
  {
   "cell_type": "code",
   "execution_count": 14,
   "id": "cbddf7c6",
   "metadata": {
    "execution": {
     "iopub.execute_input": "2024-10-30T11:41:57.714045Z",
     "iopub.status.busy": "2024-10-30T11:41:57.713590Z",
     "iopub.status.idle": "2024-10-30T11:41:57.720312Z",
     "shell.execute_reply": "2024-10-30T11:41:57.719235Z"
    },
    "papermill": {
     "duration": 0.025418,
     "end_time": "2024-10-30T11:41:57.722661",
     "exception": false,
     "start_time": "2024-10-30T11:41:57.697243",
     "status": "completed"
    },
    "tags": []
   },
   "outputs": [],
   "source": [
    "data.set_index('Dates', inplace=True)"
   ]
  },
  {
   "cell_type": "markdown",
   "id": "77671e2f",
   "metadata": {
    "papermill": {
     "duration": 0.014651,
     "end_time": "2024-10-30T11:41:57.752860",
     "exception": false,
     "start_time": "2024-10-30T11:41:57.738209",
     "status": "completed"
    },
    "tags": []
   },
   "source": [
    "## Checking For Outlier"
   ]
  },
  {
   "cell_type": "code",
   "execution_count": 15,
   "id": "0e1e7527",
   "metadata": {
    "execution": {
     "iopub.execute_input": "2024-10-30T11:41:57.785825Z",
     "iopub.status.busy": "2024-10-30T11:41:57.784504Z",
     "iopub.status.idle": "2024-10-30T11:41:58.175379Z",
     "shell.execute_reply": "2024-10-30T11:41:58.174187Z"
    },
    "papermill": {
     "duration": 0.409876,
     "end_time": "2024-10-30T11:41:58.177983",
     "exception": false,
     "start_time": "2024-10-30T11:41:57.768107",
     "status": "completed"
    },
    "tags": []
   },
   "outputs": [
    {
     "data": {
      "image/png": "[encoded data removed]",
      "text/plain": [
       "<Figure size 640x480 with 1 Axes>"
      ]
     },
     "metadata": {},
     "output_type": "display_data"
    }
   ],
   "source": [
    "sns.boxplot(data)\n",
    "plt.title('Outlier Detection')\n",
    "plt.show()"
   ]
  },
  {
   "cell_type": "code",
   "execution_count": 16,
   "id": "864e7bf8",
   "metadata": {
    "execution": {
     "iopub.execute_input": "2024-10-30T11:41:58.212190Z",
     "iopub.status.busy": "2024-10-30T11:41:58.211302Z",
     "iopub.status.idle": "2024-10-30T11:41:58.222214Z",
     "shell.execute_reply": "2024-10-30T11:41:58.221082Z"
    },
    "papermill": {
     "duration": 0.03103,
     "end_time": "2024-10-30T11:41:58.224810",
     "exception": false,
     "start_time": "2024-10-30T11:41:58.193780",
     "status": "completed"
    },
    "tags": []
   },
   "outputs": [],
   "source": [
    "Q1 = data['Usage'].quantile(0.25)\n",
    "Q3 = data['Usage'].quantile(0.75)\n",
    "\n",
    "IQR = Q3 - Q1\n",
    "\n",
    "lowerbound = Q1 - (1.5 * IQR)\n",
    "upperbound = Q3 + (1.5 * IQR)\n",
    "\n",
    "data = data[(data.Usage >= lowerbound) & (data.Usage <= upperbound)]"
   ]
  },
  {
   "cell_type": "code",
   "execution_count": 17,
   "id": "56d3bf30",
   "metadata": {
    "execution": {
     "iopub.execute_input": "2024-10-30T11:41:58.257308Z",
     "iopub.status.busy": "2024-10-30T11:41:58.256841Z",
     "iopub.status.idle": "2024-10-30T11:41:58.432448Z",
     "shell.execute_reply": "2024-10-30T11:41:58.431134Z"
    },
    "papermill": {
     "duration": 0.195375,
     "end_time": "2024-10-30T11:41:58.435273",
     "exception": false,
     "start_time": "2024-10-30T11:41:58.239898",
     "status": "completed"
    },
    "tags": []
   },
   "outputs": [
    {
     "data": {
      "image/png": "[encoded data removed]",
      "text/plain": [
       "<Figure size 640x480 with 1 Axes>"
      ]
     },
     "metadata": {},
     "output_type": "display_data"
    }
   ],
   "source": [
    "sns.boxplot(x='Usage',data=data)\n",
    "plt.show()"
   ]
  },
  {
   "cell_type": "markdown",
   "id": "ff071a1c",
   "metadata": {
    "papermill": {
     "duration": 0.015119,
     "end_time": "2024-10-30T11:41:58.465970",
     "exception": false,
     "start_time": "2024-10-30T11:41:58.450851",
     "status": "completed"
    },
    "tags": []
   },
   "source": [
    "## Checking Data Distribution"
   ]
  },
  {
   "cell_type": "code",
   "execution_count": 18,
   "id": "9ca8285f",
   "metadata": {
    "execution": {
     "iopub.execute_input": "2024-10-30T11:41:58.499537Z",
     "iopub.status.busy": "2024-10-30T11:41:58.498343Z",
     "iopub.status.idle": "2024-10-30T11:41:58.503953Z",
     "shell.execute_reply": "2024-10-30T11:41:58.502519Z"
    },
    "papermill": {
     "duration": 0.02515,
     "end_time": "2024-10-30T11:41:58.506492",
     "exception": false,
     "start_time": "2024-10-30T11:41:58.481342",
     "status": "completed"
    },
    "tags": []
   },
   "outputs": [],
   "source": [
    "# latitude\tlongitude\tDates Usage"
   ]
  },
  {
   "cell_type": "code",
   "execution_count": 19,
   "id": "4ff75aa5",
   "metadata": {
    "execution": {
     "iopub.execute_input": "2024-10-30T11:41:58.539793Z",
     "iopub.status.busy": "2024-10-30T11:41:58.538957Z",
     "iopub.status.idle": "2024-10-30T11:41:59.059739Z",
     "shell.execute_reply": "2024-10-30T11:41:59.058513Z"
    },
    "papermill": {
     "duration": 0.540223,
     "end_time": "2024-10-30T11:41:59.062400",
     "exception": false,
     "start_time": "2024-10-30T11:41:58.522177",
     "status": "completed"
    },
    "tags": []
   },
   "outputs": [
    {
     "name": "stderr",
     "output_type": "stream",
     "text": [
      "C:\\Users\\saich\\AppData\\Local\\Temp\\ipykernel_21084\\2011712175.py:1: UserWarning: \n",
      "\n",
      "`distplot` is a deprecated function and will be removed in seaborn v0.14.0.\n",
      "\n",
      "Please adapt your code to use either `displot` (a figure-level function with\n",
      "similar flexibility) or `histplot` (an axes-level function for histograms).\n",
      "\n",
      "For a guide to updating your code to use the new functions, please see\n",
      "https://gist.github.com/mwaskom/de44147ed2974457ad6372750bbe5751\n",
      "\n",
      "  sns.distplot(data['latitude'], kde=True)\n",
      "c:\\Users\\saich\\anaconda3\\Lib\\site-packages\\seaborn\\_oldcore.py:1119: FutureWarning: use_inf_as_na option is deprecated and will be removed in a future version. Convert inf values to NaN before operating instead.\n",
      "  with pd.option_context('mode.use_inf_as_na', True):\n"
     ]
    },
    {
     "data": {
      "image/png": "[encoded data removed]",
      "text/plain": [
       "<Figure size 640x480 with 1 Axes>"
      ]
     },
     "metadata": {},
     "output_type": "display_data"
    }
   ],
   "source": [
    "sns.distplot(data['latitude'], kde=True)\n",
    "plt.title('Distribution Graph of Latitude')\n",
    "plt.show()"
   ]
  },
  {
   "cell_type": "code",
   "execution_count": 20,
   "id": "c657c25e",
   "metadata": {
    "execution": {
     "iopub.execute_input": "2024-10-30T11:41:59.097566Z",
     "iopub.status.busy": "2024-10-30T11:41:59.096415Z",
     "iopub.status.idle": "2024-10-30T11:41:59.105090Z",
     "shell.execute_reply": "2024-10-30T11:41:59.103991Z"
    },
    "papermill": {
     "duration": 0.028883,
     "end_time": "2024-10-30T11:41:59.107591",
     "exception": false,
     "start_time": "2024-10-30T11:41:59.078708",
     "status": "completed"
    },
    "tags": []
   },
   "outputs": [
    {
     "data": {
      "text/plain": [
       "-0.585302472467154"
      ]
     },
     "execution_count": 20,
     "metadata": {},
     "output_type": "execute_result"
    }
   ],
   "source": [
    "data['latitude'].skew()"
   ]
  },
  {
   "cell_type": "code",
   "execution_count": 21,
   "id": "1f3fa1f2",
   "metadata": {
    "execution": {
     "iopub.execute_input": "2024-10-30T11:41:59.142447Z",
     "iopub.status.busy": "2024-10-30T11:41:59.141388Z",
     "iopub.status.idle": "2024-10-30T11:41:59.165570Z",
     "shell.execute_reply": "2024-10-30T11:41:59.164468Z"
    },
    "papermill": {
     "duration": 0.044495,
     "end_time": "2024-10-30T11:41:59.168378",
     "exception": false,
     "start_time": "2024-10-30T11:41:59.123883",
     "status": "completed"
    },
    "tags": []
   },
   "outputs": [],
   "source": [
    "from sklearn.preprocessing import PowerTransformer\n",
    "pt = PowerTransformer(method='yeo-johnson')\n",
    "data['latitude'] = pt.fit_transform(data[['latitude']])"
   ]
  },
  {
   "cell_type": "code",
   "execution_count": 22,
   "id": "b1e9b883",
   "metadata": {
    "execution": {
     "iopub.execute_input": "2024-10-30T11:41:59.203535Z",
     "iopub.status.busy": "2024-10-30T11:41:59.203058Z",
     "iopub.status.idle": "2024-10-30T11:41:59.211601Z",
     "shell.execute_reply": "2024-10-30T11:41:59.210334Z"
    },
    "papermill": {
     "duration": 0.029214,
     "end_time": "2024-10-30T11:41:59.213989",
     "exception": false,
     "start_time": "2024-10-30T11:41:59.184775",
     "status": "completed"
    },
    "tags": []
   },
   "outputs": [
    {
     "data": {
      "text/plain": [
       "-0.1776834059632093"
      ]
     },
     "execution_count": 22,
     "metadata": {},
     "output_type": "execute_result"
    }
   ],
   "source": [
    "data['latitude'].skew()"
   ]
  },
  {
   "cell_type": "code",
   "execution_count": 23,
   "id": "f9cd72d9",
   "metadata": {
    "execution": {
     "iopub.execute_input": "2024-10-30T11:41:59.248862Z",
     "iopub.status.busy": "2024-10-30T11:41:59.248395Z",
     "iopub.status.idle": "2024-10-30T11:41:59.632114Z",
     "shell.execute_reply": "2024-10-30T11:41:59.630795Z"
    },
    "papermill": {
     "duration": 0.404622,
     "end_time": "2024-10-30T11:41:59.634887",
     "exception": false,
     "start_time": "2024-10-30T11:41:59.230265",
     "status": "completed"
    },
    "tags": []
   },
   "outputs": [
    {
     "name": "stderr",
     "output_type": "stream",
     "text": [
      "C:\\Users\\saich\\AppData\\Local\\Temp\\ipykernel_21084\\2011712175.py:1: UserWarning: \n",
      "\n",
      "`distplot` is a deprecated function and will be removed in seaborn v0.14.0.\n",
      "\n",
      "Please adapt your code to use either `displot` (a figure-level function with\n",
      "similar flexibility) or `histplot` (an axes-level function for histograms).\n",
      "\n",
      "For a guide to updating your code to use the new functions, please see\n",
      "https://gist.github.com/mwaskom/de44147ed2974457ad6372750bbe5751\n",
      "\n",
      "  sns.distplot(data['latitude'], kde=True)\n",
      "c:\\Users\\saich\\anaconda3\\Lib\\site-packages\\seaborn\\_oldcore.py:1119: FutureWarning: use_inf_as_na option is deprecated and will be removed in a future version. Convert inf values to NaN before operating instead.\n",
      "  with pd.option_context('mode.use_inf_as_na', True):\n"
     ]
    },
    {
     "data": {
      "image/png": "[encoded data removed]",
      "text/plain": [
       "<Figure size 640x480 with 1 Axes>"
      ]
     },
     "metadata": {},
     "output_type": "display_data"
    }
   ],
   "source": [
    "sns.distplot(data['latitude'], kde=True)\n",
    "plt.title('Distribution Graph of Latitude')\n",
    "plt.show()"
   ]
  },
  {
   "cell_type": "code",
   "execution_count": 24,
   "id": "4e0b8848",
   "metadata": {
    "execution": {
     "iopub.execute_input": "2024-10-30T11:41:59.673942Z",
     "iopub.status.busy": "2024-10-30T11:41:59.673484Z",
     "iopub.status.idle": "2024-10-30T11:42:00.105144Z",
     "shell.execute_reply": "2024-10-30T11:42:00.103586Z"
    },
    "papermill": {
     "duration": 0.452937,
     "end_time": "2024-10-30T11:42:00.107873",
     "exception": false,
     "start_time": "2024-10-30T11:41:59.654936",
     "status": "completed"
    },
    "tags": []
   },
   "outputs": [
    {
     "name": "stderr",
     "output_type": "stream",
     "text": [
      "C:\\Users\\saich\\AppData\\Local\\Temp\\ipykernel_21084\\660076816.py:1: UserWarning: \n",
      "\n",
      "`distplot` is a deprecated function and will be removed in seaborn v0.14.0.\n",
      "\n",
      "Please adapt your code to use either `displot` (a figure-level function with\n",
      "similar flexibility) or `histplot` (an axes-level function for histograms).\n",
      "\n",
      "For a guide to updating your code to use the new functions, please see\n",
      "https://gist.github.com/mwaskom/de44147ed2974457ad6372750bbe5751\n",
      "\n",
      "  sns.distplot(data['longitude'], kde=True)\n",
      "c:\\Users\\saich\\anaconda3\\Lib\\site-packages\\seaborn\\_oldcore.py:1119: FutureWarning: use_inf_as_na option is deprecated and will be removed in a future version. Convert inf values to NaN before operating instead.\n",
      "  with pd.option_context('mode.use_inf_as_na', True):\n"
     ]
    },
    {
     "data": {
      "image/png": "[encoded data removed]",
      "text/plain": [
       "<Figure size 640x480 with 1 Axes>"
      ]
     },
     "metadata": {},
     "output_type": "display_data"
    }
   ],
   "source": [
    "sns.distplot(data['longitude'], kde=True)\n",
    "plt.title('Distribution Graph of Longitude')\n",
    "plt.show()"
   ]
  },
  {
   "cell_type": "code",
   "execution_count": 25,
   "id": "f79fd1b6",
   "metadata": {
    "execution": {
     "iopub.execute_input": "2024-10-30T11:42:00.146242Z",
     "iopub.status.busy": "2024-10-30T11:42:00.145752Z",
     "iopub.status.idle": "2024-10-30T11:42:00.154505Z",
     "shell.execute_reply": "2024-10-30T11:42:00.153324Z"
    },
    "papermill": {
     "duration": 0.031154,
     "end_time": "2024-10-30T11:42:00.156978",
     "exception": false,
     "start_time": "2024-10-30T11:42:00.125824",
     "status": "completed"
    },
    "tags": []
   },
   "outputs": [
    {
     "data": {
      "text/plain": [
       "0.499118979252289"
      ]
     },
     "execution_count": 25,
     "metadata": {},
     "output_type": "execute_result"
    }
   ],
   "source": [
    "data['longitude'].skew()"
   ]
  },
  {
   "cell_type": "code",
   "execution_count": 26,
   "id": "18e1f305",
   "metadata": {
    "execution": {
     "iopub.execute_input": "2024-10-30T11:42:00.195338Z",
     "iopub.status.busy": "2024-10-30T11:42:00.194198Z",
     "iopub.status.idle": "2024-10-30T11:42:00.261274Z",
     "shell.execute_reply": "2024-10-30T11:42:00.260085Z"
    },
    "papermill": {
     "duration": 0.089265,
     "end_time": "2024-10-30T11:42:00.264143",
     "exception": false,
     "start_time": "2024-10-30T11:42:00.174878",
     "status": "completed"
    },
    "tags": []
   },
   "outputs": [],
   "source": [
    "from scipy.stats import boxcox\n",
    "data['longitude'], lambda_boxcox = boxcox(data['longitude'])"
   ]
  },
  {
   "cell_type": "code",
   "execution_count": 27,
   "id": "23b74ba9",
   "metadata": {
    "execution": {
     "iopub.execute_input": "2024-10-30T11:42:00.302627Z",
     "iopub.status.busy": "2024-10-30T11:42:00.301850Z",
     "iopub.status.idle": "2024-10-30T11:42:00.310972Z",
     "shell.execute_reply": "2024-10-30T11:42:00.309677Z"
    },
    "papermill": {
     "duration": 0.031549,
     "end_time": "2024-10-30T11:42:00.313509",
     "exception": false,
     "start_time": "2024-10-30T11:42:00.281960",
     "status": "completed"
    },
    "tags": []
   },
   "outputs": [
    {
     "data": {
      "text/plain": [
       "0.0"
      ]
     },
     "execution_count": 27,
     "metadata": {},
     "output_type": "execute_result"
    }
   ],
   "source": [
    "data['longitude'].skew()"
   ]
  },
  {
   "cell_type": "code",
   "execution_count": 28,
   "id": "87dfe081",
   "metadata": {
    "execution": {
     "iopub.execute_input": "2024-10-30T11:42:00.352463Z",
     "iopub.status.busy": "2024-10-30T11:42:00.352012Z",
     "iopub.status.idle": "2024-10-30T11:42:00.773559Z",
     "shell.execute_reply": "2024-10-30T11:42:00.772218Z"
    },
    "papermill": {
     "duration": 0.443626,
     "end_time": "2024-10-30T11:42:00.776080",
     "exception": false,
     "start_time": "2024-10-30T11:42:00.332454",
     "status": "completed"
    },
    "tags": []
   },
   "outputs": [
    {
     "name": "stderr",
     "output_type": "stream",
     "text": [
      "C:\\Users\\saich\\AppData\\Local\\Temp\\ipykernel_21084\\660076816.py:1: UserWarning: \n",
      "\n",
      "`distplot` is a deprecated function and will be removed in seaborn v0.14.0.\n",
      "\n",
      "Please adapt your code to use either `displot` (a figure-level function with\n",
      "similar flexibility) or `histplot` (an axes-level function for histograms).\n",
      "\n",
      "For a guide to updating your code to use the new functions, please see\n",
      "https://gist.github.com/mwaskom/de44147ed2974457ad6372750bbe5751\n",
      "\n",
      "  sns.distplot(data['longitude'], kde=True)\n",
      "c:\\Users\\saich\\anaconda3\\Lib\\site-packages\\seaborn\\_oldcore.py:1119: FutureWarning: use_inf_as_na option is deprecated and will be removed in a future version. Convert inf values to NaN before operating instead.\n",
      "  with pd.option_context('mode.use_inf_as_na', True):\n"
     ]
    },
    {
     "data": {
      "image/png": "[encoded data removed]",
      "text/plain": [
       "<Figure size 640x480 with 1 Axes>"
      ]
     },
     "metadata": {},
     "output_type": "display_data"
    }
   ],
   "source": [
    "sns.distplot(data['longitude'], kde=True)\n",
    "plt.title('Distribution Graph of Longitude')\n",
    "plt.show()"
   ]
  },
  {
   "cell_type": "code",
   "execution_count": 29,
   "id": "8017cc54",
   "metadata": {
    "execution": {
     "iopub.execute_input": "2024-10-30T11:42:00.816570Z",
     "iopub.status.busy": "2024-10-30T11:42:00.815247Z",
     "iopub.status.idle": "2024-10-30T11:42:01.255062Z",
     "shell.execute_reply": "2024-10-30T11:42:01.253816Z"
    },
    "papermill": {
     "duration": 0.462497,
     "end_time": "2024-10-30T11:42:01.257412",
     "exception": false,
     "start_time": "2024-10-30T11:42:00.794915",
     "status": "completed"
    },
    "tags": []
   },
   "outputs": [
    {
     "name": "stderr",
     "output_type": "stream",
     "text": [
      "C:\\Users\\saich\\AppData\\Local\\Temp\\ipykernel_21084\\2250075933.py:1: UserWarning: \n",
      "\n",
      "`distplot` is a deprecated function and will be removed in seaborn v0.14.0.\n",
      "\n",
      "Please adapt your code to use either `displot` (a figure-level function with\n",
      "similar flexibility) or `histplot` (an axes-level function for histograms).\n",
      "\n",
      "For a guide to updating your code to use the new functions, please see\n",
      "https://gist.github.com/mwaskom/de44147ed2974457ad6372750bbe5751\n",
      "\n",
      "  sns.distplot(data['Usage'], kde=True)\n",
      "c:\\Users\\saich\\anaconda3\\Lib\\site-packages\\seaborn\\_oldcore.py:1119: FutureWarning: use_inf_as_na option is deprecated and will be removed in a future version. Convert inf values to NaN before operating instead.\n",
      "  with pd.option_context('mode.use_inf_as_na', True):\n"
     ]
    },
    {
     "data": {
      "image/png": "[encoded data removed]",
      "text/plain": [
       "<Figure size 640x480 with 1 Axes>"
      ]
     },
     "metadata": {},
     "output_type": "display_data"
    }
   ],
   "source": [
    "sns.distplot(data['Usage'], kde=True)\n",
    "plt.title('Distribution Graph of Usage')\n",
    "plt.show()"
   ]
  },
  {
   "cell_type": "code",
   "execution_count": 30,
   "id": "bac7e1ce",
   "metadata": {
    "execution": {
     "iopub.execute_input": "2024-10-30T11:42:01.298489Z",
     "iopub.status.busy": "2024-10-30T11:42:01.298022Z",
     "iopub.status.idle": "2024-10-30T11:42:01.306545Z",
     "shell.execute_reply": "2024-10-30T11:42:01.305370Z"
    },
    "papermill": {
     "duration": 0.032075,
     "end_time": "2024-10-30T11:42:01.309181",
     "exception": false,
     "start_time": "2024-10-30T11:42:01.277106",
     "status": "completed"
    },
    "tags": []
   },
   "outputs": [
    {
     "data": {
      "text/plain": [
       "1.1119828421463722"
      ]
     },
     "execution_count": 30,
     "metadata": {},
     "output_type": "execute_result"
    }
   ],
   "source": [
    "data['Usage'].skew()"
   ]
  },
  {
   "cell_type": "code",
   "execution_count": 31,
   "id": "f8635896",
   "metadata": {
    "execution": {
     "iopub.execute_input": "2024-10-30T11:42:01.350936Z",
     "iopub.status.busy": "2024-10-30T11:42:01.350482Z",
     "iopub.status.idle": "2024-10-30T11:42:01.433141Z",
     "shell.execute_reply": "2024-10-30T11:42:01.431934Z"
    },
    "papermill": {
     "duration": 0.106964,
     "end_time": "2024-10-30T11:42:01.436057",
     "exception": false,
     "start_time": "2024-10-30T11:42:01.329093",
     "status": "completed"
    },
    "tags": []
   },
   "outputs": [],
   "source": [
    "data['Usage'], lambda_boxcox = boxcox(data['Usage'])"
   ]
  },
  {
   "cell_type": "code",
   "execution_count": 32,
   "id": "23d457d2",
   "metadata": {
    "execution": {
     "iopub.execute_input": "2024-10-30T11:42:01.477052Z",
     "iopub.status.busy": "2024-10-30T11:42:01.476589Z",
     "iopub.status.idle": "2024-10-30T11:42:01.485148Z",
     "shell.execute_reply": "2024-10-30T11:42:01.483979Z"
    },
    "papermill": {
     "duration": 0.032043,
     "end_time": "2024-10-30T11:42:01.487524",
     "exception": false,
     "start_time": "2024-10-30T11:42:01.455481",
     "status": "completed"
    },
    "tags": []
   },
   "outputs": [
    {
     "data": {
      "text/plain": [
       "-0.14037877619378586"
      ]
     },
     "execution_count": 32,
     "metadata": {},
     "output_type": "execute_result"
    }
   ],
   "source": [
    "data['Usage'].skew()"
   ]
  },
  {
   "cell_type": "code",
   "execution_count": 33,
   "id": "247f7d2d",
   "metadata": {
    "execution": {
     "iopub.execute_input": "2024-10-30T11:42:01.528565Z",
     "iopub.status.busy": "2024-10-30T11:42:01.527564Z",
     "iopub.status.idle": "2024-10-30T11:42:02.014178Z",
     "shell.execute_reply": "2024-10-30T11:42:02.012924Z"
    },
    "papermill": {
     "duration": 0.509496,
     "end_time": "2024-10-30T11:42:02.016461",
     "exception": false,
     "start_time": "2024-10-30T11:42:01.506965",
     "status": "completed"
    },
    "tags": []
   },
   "outputs": [
    {
     "name": "stderr",
     "output_type": "stream",
     "text": [
      "C:\\Users\\saich\\AppData\\Local\\Temp\\ipykernel_21084\\2250075933.py:1: UserWarning: \n",
      "\n",
      "`distplot` is a deprecated function and will be removed in seaborn v0.14.0.\n",
      "\n",
      "Please adapt your code to use either `displot` (a figure-level function with\n",
      "similar flexibility) or `histplot` (an axes-level function for histograms).\n",
      "\n",
      "For a guide to updating your code to use the new functions, please see\n",
      "https://gist.github.com/mwaskom/de44147ed2974457ad6372750bbe5751\n",
      "\n",
      "  sns.distplot(data['Usage'], kde=True)\n",
      "c:\\Users\\saich\\anaconda3\\Lib\\site-packages\\seaborn\\_oldcore.py:1119: FutureWarning: use_inf_as_na option is deprecated and will be removed in a future version. Convert inf values to NaN before operating instead.\n",
      "  with pd.option_context('mode.use_inf_as_na', True):\n"
     ]
    },
    {
     "data": {
      "image/png": "[encoded data removed]",
      "text/plain": [
       "<Figure size 640x480 with 1 Axes>"
      ]
     },
     "metadata": {},
     "output_type": "display_data"
    }
   ],
   "source": [
    "sns.distplot(data['Usage'], kde=True)\n",
    "plt.title('Distribution Graph of Usage')\n",
    "plt.show()"
   ]
  },
  {
   "cell_type": "code",
   "execution_count": 34,
   "id": "43d8263b",
   "metadata": {
    "execution": {
     "iopub.execute_input": "2024-10-30T11:42:02.060038Z",
     "iopub.status.busy": "2024-10-30T11:42:02.059557Z",
     "iopub.status.idle": "2024-10-30T11:42:02.230727Z",
     "shell.execute_reply": "2024-10-30T11:42:02.229624Z"
    },
    "papermill": {
     "duration": 0.196902,
     "end_time": "2024-10-30T11:42:02.233867",
     "exception": false,
     "start_time": "2024-10-30T11:42:02.036965",
     "status": "completed"
    },
    "tags": []
   },
   "outputs": [
    {
     "data": {
      "image/png": "[encoded data removed]",
      "text/plain": [
       "<Figure size 640x480 with 1 Axes>"
      ]
     },
     "metadata": {},
     "output_type": "display_data"
    }
   ],
   "source": [
    "sns.boxplot(data)\n",
    "plt.show()"
   ]
  },
  {
   "cell_type": "markdown",
   "id": "0a08c861",
   "metadata": {
    "papermill": {
     "duration": 0.019923,
     "end_time": "2024-10-30T11:42:02.279571",
     "exception": false,
     "start_time": "2024-10-30T11:42:02.259648",
     "status": "completed"
    },
    "tags": []
   },
   "source": [
    "## Encoding of Categorial Variables"
   ]
  },
  {
   "cell_type": "markdown",
   "id": "9aaab004",
   "metadata": {
    "papermill": {
     "duration": 0.020781,
     "end_time": "2024-10-30T11:42:02.320583",
     "exception": false,
     "start_time": "2024-10-30T11:42:02.299802",
     "status": "completed"
    },
    "tags": []
   },
   "source": [
    "Using OneHotEncoding"
   ]
  },
  {
   "cell_type": "code",
   "execution_count": 35,
   "id": "20459e8e",
   "metadata": {
    "execution": {
     "iopub.execute_input": "2024-10-30T11:42:02.364352Z",
     "iopub.status.busy": "2024-10-30T11:42:02.363908Z",
     "iopub.status.idle": "2024-10-30T11:42:02.369387Z",
     "shell.execute_reply": "2024-10-30T11:42:02.368287Z"
    },
    "papermill": {
     "duration": 0.029914,
     "end_time": "2024-10-30T11:42:02.371860",
     "exception": false,
     "start_time": "2024-10-30T11:42:02.341946",
     "status": "completed"
    },
    "tags": []
   },
   "outputs": [],
   "source": [
    "encoder = OneHotEncoder(sparse=False, drop='first')"
   ]
  },
  {
   "cell_type": "code",
   "execution_count": 36,
   "id": "aef6c3e4",
   "metadata": {
    "execution": {
     "iopub.execute_input": "2024-10-30T11:42:02.416165Z",
     "iopub.status.busy": "2024-10-30T11:42:02.415047Z",
     "iopub.status.idle": "2024-10-30T11:42:02.449831Z",
     "shell.execute_reply": "2024-10-30T11:42:02.448482Z"
    },
    "papermill": {
     "duration": 0.059746,
     "end_time": "2024-10-30T11:42:02.452518",
     "exception": false,
     "start_time": "2024-10-30T11:42:02.392772",
     "status": "completed"
    },
    "tags": []
   },
   "outputs": [
    {
     "name": "stderr",
     "output_type": "stream",
     "text": [
      "c:\\Users\\saich\\anaconda3\\Lib\\site-packages\\sklearn\\preprocessing\\_encoders.py:868: FutureWarning: `sparse` was renamed to `sparse_output` in version 1.2 and will be removed in 1.4. `sparse_output` is ignored unless you leave `sparse` to its default value.\n",
      "  warnings.warn(\n"
     ]
    }
   ],
   "source": [
    "encoded_categories = encoder.fit_transform(data[['States','Regions']])"
   ]
  },
  {
   "cell_type": "markdown",
   "id": "b3a0cce1",
   "metadata": {
    "papermill": {
     "duration": 0.020198,
     "end_time": "2024-10-30T11:42:02.493707",
     "exception": false,
     "start_time": "2024-10-30T11:42:02.473509",
     "status": "completed"
    },
    "tags": []
   },
   "source": [
    "Create a DataFrame with the encoded categories"
   ]
  },
  {
   "cell_type": "code",
   "execution_count": 37,
   "id": "4995e91e",
   "metadata": {
    "execution": {
     "iopub.execute_input": "2024-10-30T11:42:02.536891Z",
     "iopub.status.busy": "2024-10-30T11:42:02.535708Z",
     "iopub.status.idle": "2024-10-30T11:42:02.542580Z",
     "shell.execute_reply": "2024-10-30T11:42:02.541167Z"
    },
    "papermill": {
     "duration": 0.031046,
     "end_time": "2024-10-30T11:42:02.545069",
     "exception": false,
     "start_time": "2024-10-30T11:42:02.514023",
     "status": "completed"
    },
    "tags": []
   },
   "outputs": [],
   "source": [
    "encoded_df = pd.DataFrame(encoded_categories, columns=encoder.get_feature_names_out(['States', 'Regions']), index=data.index)"
   ]
  },
  {
   "cell_type": "markdown",
   "id": "1741bcee",
   "metadata": {
    "papermill": {
     "duration": 0.022231,
     "end_time": "2024-10-30T11:42:02.588553",
     "exception": false,
     "start_time": "2024-10-30T11:42:02.566322",
     "status": "completed"
    },
    "tags": []
   },
   "source": [
    "Concatenate the encoded categories with the original DataFrame (excluding the original categorical column)\n"
   ]
  },
  {
   "cell_type": "code",
   "execution_count": 38,
   "id": "bde456b0",
   "metadata": {
    "execution": {
     "iopub.execute_input": "2024-10-30T11:42:02.632229Z",
     "iopub.status.busy": "2024-10-30T11:42:02.631204Z",
     "iopub.status.idle": "2024-10-30T11:42:02.646865Z",
     "shell.execute_reply": "2024-10-30T11:42:02.645322Z"
    },
    "papermill": {
     "duration": 0.040359,
     "end_time": "2024-10-30T11:42:02.649714",
     "exception": false,
     "start_time": "2024-10-30T11:42:02.609355",
     "status": "completed"
    },
    "tags": []
   },
   "outputs": [],
   "source": [
    "data = pd.concat([data.drop(columns=['States', 'Regions']), encoded_df], axis=1)"
   ]
  },
  {
   "cell_type": "code",
   "execution_count": 39,
   "id": "23b4b1c7",
   "metadata": {
    "execution": {
     "iopub.execute_input": "2024-10-30T11:42:02.693340Z",
     "iopub.status.busy": "2024-10-30T11:42:02.692827Z",
     "iopub.status.idle": "2024-10-30T11:42:02.724455Z",
     "shell.execute_reply": "2024-10-30T11:42:02.723355Z"
    },
    "papermill": {
     "duration": 0.056009,
     "end_time": "2024-10-30T11:42:02.726890",
     "exception": false,
     "start_time": "2024-10-30T11:42:02.670881",
     "status": "completed"
    },
    "tags": []
   },
   "outputs": [
    {
     "data": {
      "text/html": [
       "<div>\n",
       "<style scoped>\n",
       "    .dataframe tbody tr th:only-of-type {\n",
       "        vertical-align: middle;\n",
       "    }\n",
       "\n",
       "    .dataframe tbody tr th {\n",
       "        vertical-align: top;\n",
       "    }\n",
       "\n",
       "    .dataframe thead th {\n",
       "        text-align: right;\n",
       "    }\n",
       "</style>\n",
       "<table border=\"1\" class=\"dataframe\">\n",
       "  <thead>\n",
       "    <tr style=\"text-align: right;\">\n",
       "      <th></th>\n",
       "      <th>latitude</th>\n",
       "      <th>longitude</th>\n",
       "      <th>Usage</th>\n",
       "      <th>States_Arunachal Pradesh</th>\n",
       "      <th>States_Assam</th>\n",
       "      <th>States_Bihar</th>\n",
       "      <th>States_Chandigarh</th>\n",
       "      <th>States_Chhattisgarh</th>\n",
       "      <th>States_DNH</th>\n",
       "      <th>States_Delhi</th>\n",
       "      <th>...</th>\n",
       "      <th>States_Tamil Nadu</th>\n",
       "      <th>States_Telangana</th>\n",
       "      <th>States_Tripura</th>\n",
       "      <th>States_UP</th>\n",
       "      <th>States_Uttarakhand</th>\n",
       "      <th>States_West Bengal</th>\n",
       "      <th>Regions_NER</th>\n",
       "      <th>Regions_NR</th>\n",
       "      <th>Regions_SR</th>\n",
       "      <th>Regions_WR</th>\n",
       "    </tr>\n",
       "    <tr>\n",
       "      <th>Dates</th>\n",
       "      <th></th>\n",
       "      <th></th>\n",
       "      <th></th>\n",
       "      <th></th>\n",
       "      <th></th>\n",
       "      <th></th>\n",
       "      <th></th>\n",
       "      <th></th>\n",
       "      <th></th>\n",
       "      <th></th>\n",
       "      <th></th>\n",
       "      <th></th>\n",
       "      <th></th>\n",
       "      <th></th>\n",
       "      <th></th>\n",
       "      <th></th>\n",
       "      <th></th>\n",
       "      <th></th>\n",
       "      <th></th>\n",
       "      <th></th>\n",
       "      <th></th>\n",
       "    </tr>\n",
       "  </thead>\n",
       "  <tbody>\n",
       "    <tr>\n",
       "      <th>2019-01-02</th>\n",
       "      <td>1.508175</td>\n",
       "      <td>0.281902</td>\n",
       "      <td>7.463800</td>\n",
       "      <td>0.0</td>\n",
       "      <td>0.0</td>\n",
       "      <td>0.0</td>\n",
       "      <td>0.0</td>\n",
       "      <td>0.0</td>\n",
       "      <td>0.0</td>\n",
       "      <td>0.0</td>\n",
       "      <td>...</td>\n",
       "      <td>0.0</td>\n",
       "      <td>0.0</td>\n",
       "      <td>0.0</td>\n",
       "      <td>0.0</td>\n",
       "      <td>0.0</td>\n",
       "      <td>0.0</td>\n",
       "      <td>0.0</td>\n",
       "      <td>1.0</td>\n",
       "      <td>0.0</td>\n",
       "      <td>0.0</td>\n",
       "    </tr>\n",
       "    <tr>\n",
       "      <th>2019-01-02</th>\n",
       "      <td>0.862767</td>\n",
       "      <td>0.281902</td>\n",
       "      <td>7.656179</td>\n",
       "      <td>0.0</td>\n",
       "      <td>0.0</td>\n",
       "      <td>0.0</td>\n",
       "      <td>0.0</td>\n",
       "      <td>0.0</td>\n",
       "      <td>0.0</td>\n",
       "      <td>0.0</td>\n",
       "      <td>...</td>\n",
       "      <td>0.0</td>\n",
       "      <td>0.0</td>\n",
       "      <td>0.0</td>\n",
       "      <td>0.0</td>\n",
       "      <td>0.0</td>\n",
       "      <td>0.0</td>\n",
       "      <td>0.0</td>\n",
       "      <td>1.0</td>\n",
       "      <td>0.0</td>\n",
       "      <td>0.0</td>\n",
       "    </tr>\n",
       "    <tr>\n",
       "      <th>2019-01-02</th>\n",
       "      <td>0.470706</td>\n",
       "      <td>0.281902</td>\n",
       "      <td>9.092914</td>\n",
       "      <td>0.0</td>\n",
       "      <td>0.0</td>\n",
       "      <td>0.0</td>\n",
       "      <td>0.0</td>\n",
       "      <td>0.0</td>\n",
       "      <td>0.0</td>\n",
       "      <td>0.0</td>\n",
       "      <td>...</td>\n",
       "      <td>0.0</td>\n",
       "      <td>0.0</td>\n",
       "      <td>0.0</td>\n",
       "      <td>0.0</td>\n",
       "      <td>0.0</td>\n",
       "      <td>0.0</td>\n",
       "      <td>0.0</td>\n",
       "      <td>1.0</td>\n",
       "      <td>0.0</td>\n",
       "      <td>0.0</td>\n",
       "    </tr>\n",
       "    <tr>\n",
       "      <th>2019-01-02</th>\n",
       "      <td>0.907267</td>\n",
       "      <td>0.281902</td>\n",
       "      <td>6.717331</td>\n",
       "      <td>0.0</td>\n",
       "      <td>0.0</td>\n",
       "      <td>0.0</td>\n",
       "      <td>0.0</td>\n",
       "      <td>0.0</td>\n",
       "      <td>0.0</td>\n",
       "      <td>1.0</td>\n",
       "      <td>...</td>\n",
       "      <td>0.0</td>\n",
       "      <td>0.0</td>\n",
       "      <td>0.0</td>\n",
       "      <td>0.0</td>\n",
       "      <td>0.0</td>\n",
       "      <td>0.0</td>\n",
       "      <td>0.0</td>\n",
       "      <td>1.0</td>\n",
       "      <td>0.0</td>\n",
       "      <td>0.0</td>\n",
       "    </tr>\n",
       "    <tr>\n",
       "      <th>2019-01-02</th>\n",
       "      <td>0.693377</td>\n",
       "      <td>0.281902</td>\n",
       "      <td>9.869002</td>\n",
       "      <td>0.0</td>\n",
       "      <td>0.0</td>\n",
       "      <td>0.0</td>\n",
       "      <td>0.0</td>\n",
       "      <td>0.0</td>\n",
       "      <td>0.0</td>\n",
       "      <td>0.0</td>\n",
       "      <td>...</td>\n",
       "      <td>0.0</td>\n",
       "      <td>0.0</td>\n",
       "      <td>0.0</td>\n",
       "      <td>1.0</td>\n",
       "      <td>0.0</td>\n",
       "      <td>0.0</td>\n",
       "      <td>0.0</td>\n",
       "      <td>1.0</td>\n",
       "      <td>0.0</td>\n",
       "      <td>0.0</td>\n",
       "    </tr>\n",
       "  </tbody>\n",
       "</table>\n",
       "<p>5 rows × 39 columns</p>\n",
       "</div>"
      ],
      "text/plain": [
       "            latitude  longitude     Usage  States_Arunachal Pradesh  \\\n",
       "Dates                                                                 \n",
       "2019-01-02  1.508175   0.281902  7.463800                       0.0   \n",
       "2019-01-02  0.862767   0.281902  7.656179                       0.0   \n",
       "2019-01-02  0.470706   0.281902  9.092914                       0.0   \n",
       "2019-01-02  0.907267   0.281902  6.717331                       0.0   \n",
       "2019-01-02  0.693377   0.281902  9.869002                       0.0   \n",
       "\n",
       "            States_Assam  States_Bihar  States_Chandigarh  \\\n",
       "Dates                                                       \n",
       "2019-01-02           0.0           0.0                0.0   \n",
       "2019-01-02           0.0           0.0                0.0   \n",
       "2019-01-02           0.0           0.0                0.0   \n",
       "2019-01-02           0.0           0.0                0.0   \n",
       "2019-01-02           0.0           0.0                0.0   \n",
       "\n",
       "            States_Chhattisgarh  States_DNH  States_Delhi  ...  \\\n",
       "Dates                                                      ...   \n",
       "2019-01-02                  0.0         0.0           0.0  ...   \n",
       "2019-01-02                  0.0         0.0           0.0  ...   \n",
       "2019-01-02                  0.0         0.0           0.0  ...   \n",
       "2019-01-02                  0.0         0.0           1.0  ...   \n",
       "2019-01-02                  0.0         0.0           0.0  ...   \n",
       "\n",
       "            States_Tamil Nadu  States_Telangana  States_Tripura  States_UP  \\\n",
       "Dates                                                                        \n",
       "2019-01-02                0.0               0.0             0.0        0.0   \n",
       "2019-01-02                0.0               0.0             0.0        0.0   \n",
       "2019-01-02                0.0               0.0             0.0        0.0   \n",
       "2019-01-02                0.0               0.0             0.0        0.0   \n",
       "2019-01-02                0.0               0.0             0.0        1.0   \n",
       "\n",
       "            States_Uttarakhand  States_West Bengal  Regions_NER  Regions_NR  \\\n",
       "Dates                                                                         \n",
       "2019-01-02                 0.0                 0.0          0.0         1.0   \n",
       "2019-01-02                 0.0                 0.0          0.0         1.0   \n",
       "2019-01-02                 0.0                 0.0          0.0         1.0   \n",
       "2019-01-02                 0.0                 0.0          0.0         1.0   \n",
       "2019-01-02                 0.0                 0.0          0.0         1.0   \n",
       "\n",
       "            Regions_SR  Regions_WR  \n",
       "Dates                               \n",
       "2019-01-02         0.0         0.0  \n",
       "2019-01-02         0.0         0.0  \n",
       "2019-01-02         0.0         0.0  \n",
       "2019-01-02         0.0         0.0  \n",
       "2019-01-02         0.0         0.0  \n",
       "\n",
       "[5 rows x 39 columns]"
      ]
     },
     "execution_count": 39,
     "metadata": {},
     "output_type": "execute_result"
    }
   ],
   "source": [
    "data.head()"
   ]
  },
  {
   "cell_type": "markdown",
   "id": "5abebf05",
   "metadata": {
    "papermill": {
     "duration": 0.020516,
     "end_time": "2024-10-30T11:42:02.768392",
     "exception": false,
     "start_time": "2024-10-30T11:42:02.747876",
     "status": "completed"
    },
    "tags": []
   },
   "source": [
    "## Standardization of Data"
   ]
  },
  {
   "cell_type": "code",
   "execution_count": 40,
   "id": "1a074574",
   "metadata": {
    "execution": {
     "iopub.execute_input": "2024-10-30T11:42:02.812313Z",
     "iopub.status.busy": "2024-10-30T11:42:02.811842Z",
     "iopub.status.idle": "2024-10-30T11:42:02.822430Z",
     "shell.execute_reply": "2024-10-30T11:42:02.821411Z"
    },
    "papermill": {
     "duration": 0.035422,
     "end_time": "2024-10-30T11:42:02.825041",
     "exception": false,
     "start_time": "2024-10-30T11:42:02.789619",
     "status": "completed"
    },
    "tags": []
   },
   "outputs": [],
   "source": [
    "x = data.drop(['Usage'],axis=1)\n",
    "y = data['Usage'] "
   ]
  },
  {
   "cell_type": "code",
   "execution_count": 41,
   "id": "f85a0d5e",
   "metadata": {
    "execution": {
     "iopub.execute_input": "2024-10-30T11:42:02.871328Z",
     "iopub.status.busy": "2024-10-30T11:42:02.870102Z",
     "iopub.status.idle": "2024-10-30T11:42:02.875808Z",
     "shell.execute_reply": "2024-10-30T11:42:02.874575Z"
    },
    "papermill": {
     "duration": 0.031228,
     "end_time": "2024-10-30T11:42:02.878239",
     "exception": false,
     "start_time": "2024-10-30T11:42:02.847011",
     "status": "completed"
    },
    "tags": []
   },
   "outputs": [],
   "source": [
    "from sklearn.preprocessing import StandardScaler"
   ]
  },
  {
   "cell_type": "code",
   "execution_count": 42,
   "id": "b843ba54",
   "metadata": {
    "execution": {
     "iopub.execute_input": "2024-10-30T11:42:02.922559Z",
     "iopub.status.busy": "2024-10-30T11:42:02.922118Z",
     "iopub.status.idle": "2024-10-30T11:42:02.927116Z",
     "shell.execute_reply": "2024-10-30T11:42:02.925956Z"
    },
    "papermill": {
     "duration": 0.029733,
     "end_time": "2024-10-30T11:42:02.929514",
     "exception": false,
     "start_time": "2024-10-30T11:42:02.899781",
     "status": "completed"
    },
    "tags": []
   },
   "outputs": [],
   "source": [
    "Scaler = StandardScaler()"
   ]
  },
  {
   "cell_type": "code",
   "execution_count": 43,
   "id": "f2ddb1eb",
   "metadata": {
    "execution": {
     "iopub.execute_input": "2024-10-30T11:42:02.973774Z",
     "iopub.status.busy": "2024-10-30T11:42:02.973363Z",
     "iopub.status.idle": "2024-10-30T11:42:02.998507Z",
     "shell.execute_reply": "2024-10-30T11:42:02.997311Z"
    },
    "papermill": {
     "duration": 0.050677,
     "end_time": "2024-10-30T11:42:03.001201",
     "exception": false,
     "start_time": "2024-10-30T11:42:02.950524",
     "status": "completed"
    },
    "tags": []
   },
   "outputs": [],
   "source": [
    "x_scaled = Scaler.fit_transform(x) "
   ]
  },
  {
   "cell_type": "code",
   "execution_count": 44,
   "id": "993efe4c",
   "metadata": {
    "execution": {
     "iopub.execute_input": "2024-10-30T11:42:03.045486Z",
     "iopub.status.busy": "2024-10-30T11:42:03.044993Z",
     "iopub.status.idle": "2024-10-30T11:42:03.054074Z",
     "shell.execute_reply": "2024-10-30T11:42:03.052824Z"
    },
    "papermill": {
     "duration": 0.034453,
     "end_time": "2024-10-30T11:42:03.056712",
     "exception": false,
     "start_time": "2024-10-30T11:42:03.022259",
     "status": "completed"
    },
    "tags": []
   },
   "outputs": [
    {
     "data": {
      "text/plain": [
       "(16285, 38)"
      ]
     },
     "execution_count": 44,
     "metadata": {},
     "output_type": "execute_result"
    }
   ],
   "source": [
    "x_scaled.shape"
   ]
  },
  {
   "cell_type": "code",
   "execution_count": 45,
   "id": "fe3167b7",
   "metadata": {
    "execution": {
     "iopub.execute_input": "2024-10-30T11:42:03.102487Z",
     "iopub.status.busy": "2024-10-30T11:42:03.101322Z",
     "iopub.status.idle": "2024-10-30T11:42:03.109025Z",
     "shell.execute_reply": "2024-10-30T11:42:03.107728Z"
    },
    "papermill": {
     "duration": 0.032913,
     "end_time": "2024-10-30T11:42:03.111265",
     "exception": false,
     "start_time": "2024-10-30T11:42:03.078352",
     "status": "completed"
    },
    "tags": []
   },
   "outputs": [
    {
     "data": {
      "text/plain": [
       "(16285,)"
      ]
     },
     "execution_count": 45,
     "metadata": {},
     "output_type": "execute_result"
    }
   ],
   "source": [
    "y.shape"
   ]
  },
  {
   "cell_type": "markdown",
   "id": "ce42bf41",
   "metadata": {
    "papermill": {
     "duration": 0.021678,
     "end_time": "2024-10-30T11:42:03.153901",
     "exception": false,
     "start_time": "2024-10-30T11:42:03.132223",
     "status": "completed"
    },
    "tags": []
   },
   "source": [
    "## Data Splitting"
   ]
  },
  {
   "cell_type": "code",
   "execution_count": 46,
   "id": "b8556661",
   "metadata": {
    "execution": {
     "iopub.execute_input": "2024-10-30T11:42:03.199272Z",
     "iopub.status.busy": "2024-10-30T11:42:03.198344Z",
     "iopub.status.idle": "2024-10-30T11:42:03.211190Z",
     "shell.execute_reply": "2024-10-30T11:42:03.209937Z"
    },
    "papermill": {
     "duration": 0.038861,
     "end_time": "2024-10-30T11:42:03.214085",
     "exception": false,
     "start_time": "2024-10-30T11:42:03.175224",
     "status": "completed"
    },
    "tags": []
   },
   "outputs": [],
   "source": [
    "x_train,x_test,y_train,y_test = train_test_split(x_scaled,y,test_size=0.2,random_state=42)"
   ]
  },
  {
   "cell_type": "markdown",
   "id": "53ed286d",
   "metadata": {
    "papermill": {
     "duration": 0.02125,
     "end_time": "2024-10-30T11:42:03.256944",
     "exception": false,
     "start_time": "2024-10-30T11:42:03.235694",
     "status": "completed"
    },
    "tags": []
   },
   "source": [
    "#### AdFuller Report"
   ]
  },
  {
   "cell_type": "code",
   "execution_count": 47,
   "id": "d5a1e74e",
   "metadata": {
    "execution": {
     "iopub.execute_input": "2024-10-30T11:42:03.301766Z",
     "iopub.status.busy": "2024-10-30T11:42:03.300669Z",
     "iopub.status.idle": "2024-10-30T11:42:04.429403Z",
     "shell.execute_reply": "2024-10-30T11:42:04.428184Z"
    },
    "papermill": {
     "duration": 1.154874,
     "end_time": "2024-10-30T11:42:04.432955",
     "exception": false,
     "start_time": "2024-10-30T11:42:03.278081",
     "status": "completed"
    },
    "tags": []
   },
   "outputs": [
    {
     "name": "stdout",
     "output_type": "stream",
     "text": [
      "ADF Statistic: -113.62567481473036\n",
      "p-value: 0.0\n"
     ]
    }
   ],
   "source": [
    "from statsmodels.tsa.stattools import adfuller\n",
    "\n",
    "result = adfuller(y_train)\n",
    "print(f'ADF Statistic: {result[0]}')\n",
    "print(f'p-value: {result[1]}')"
   ]
  },
  {
   "cell_type": "markdown",
   "id": "2105a4fa",
   "metadata": {
    "papermill": {
     "duration": 0.035453,
     "end_time": "2024-10-30T11:42:04.505227",
     "exception": false,
     "start_time": "2024-10-30T11:42:04.469774",
     "status": "completed"
    },
    "tags": []
   },
   "source": [
    "## ARIMA"
   ]
  },
  {
   "cell_type": "code",
   "execution_count": 48,
   "id": "b1828f3c",
   "metadata": {
    "execution": {
     "iopub.execute_input": "2024-10-30T11:42:04.566542Z",
     "iopub.status.busy": "2024-10-30T11:42:04.566139Z",
     "iopub.status.idle": "2024-10-30T11:43:12.302039Z",
     "shell.execute_reply": "2024-10-30T11:43:12.300723Z"
    },
    "papermill": {
     "duration": 67.765124,
     "end_time": "2024-10-30T11:43:12.305967",
     "exception": false,
     "start_time": "2024-10-30T11:42:04.540843",
     "status": "completed"
    },
    "tags": []
   },
   "outputs": [
    {
     "name": "stdout",
     "output_type": "stream",
     "text": [
      "Performing stepwise search to minimize aic\n",
      " ARIMA(2,0,2)(0,0,0)[0]             : AIC=inf, Time=4.86 sec\n",
      " ARIMA(0,0,0)(0,0,0)[0]             : AIC=84555.456, Time=0.14 sec\n",
      " ARIMA(1,0,0)(0,0,0)[0]             : AIC=74144.046, Time=0.19 sec\n",
      " ARIMA(0,0,1)(0,0,0)[0]             : AIC=79393.149, Time=0.65 sec\n",
      " ARIMA(2,0,0)(0,0,0)[0]             : AIC=71587.218, Time=0.39 sec\n",
      " ARIMA(3,0,0)(0,0,0)[0]             : AIC=70330.268, Time=0.48 sec\n",
      " ARIMA(4,0,0)(0,0,0)[0]             : AIC=69609.522, Time=0.66 sec\n",
      " ARIMA(5,0,0)(0,0,0)[0]             : AIC=69176.037, Time=0.80 sec\n",
      " ARIMA(5,0,1)(0,0,0)[0]             : AIC=inf, Time=10.80 sec\n",
      " ARIMA(4,0,1)(0,0,0)[0]             : AIC=inf, Time=11.29 sec\n",
      " ARIMA(5,0,0)(0,0,0)[0] intercept   : AIC=66977.446, Time=2.42 sec\n",
      " ARIMA(4,0,0)(0,0,0)[0] intercept   : AIC=66975.504, Time=1.80 sec\n",
      " ARIMA(3,0,0)(0,0,0)[0] intercept   : AIC=66974.089, Time=1.50 sec\n",
      " ARIMA(2,0,0)(0,0,0)[0] intercept   : AIC=66972.813, Time=0.98 sec\n",
      " ARIMA(1,0,0)(0,0,0)[0] intercept   : AIC=66970.861, Time=0.58 sec\n",
      " ARIMA(0,0,0)(0,0,0)[0] intercept   : AIC=66969.107, Time=0.22 sec\n",
      " ARIMA(0,0,1)(0,0,0)[0] intercept   : AIC=66970.860, Time=0.91 sec\n",
      " ARIMA(1,0,1)(0,0,0)[0] intercept   : AIC=66972.862, Time=1.34 sec\n",
      "\n",
      "Best model:  ARIMA(0,0,0)(0,0,0)[0] intercept\n",
      "Total fit time: 40.040 seconds\n"
     ]
    }
   ],
   "source": [
    "import pmdarima as pm\n",
    "auto_model = pm.auto_arima(y_train, seasonal=False, trace=True,\n",
    "                            error_action='ignore', suppress_warnings=True)"
   ]
  },
  {
   "cell_type": "code",
   "execution_count": 49,
   "id": "416dc433",
   "metadata": {
    "execution": {
     "iopub.execute_input": "2024-10-30T11:43:12.388262Z",
     "iopub.status.busy": "2024-10-30T11:43:12.387554Z",
     "iopub.status.idle": "2024-10-30T11:43:12.837243Z",
     "shell.execute_reply": "2024-10-30T11:43:12.835911Z"
    },
    "papermill": {
     "duration": 0.493715,
     "end_time": "2024-10-30T11:43:12.840632",
     "exception": false,
     "start_time": "2024-10-30T11:43:12.346917",
     "status": "completed"
    },
    "tags": []
   },
   "outputs": [
    {
     "data": {
      "text/html": [
       "<style>#sk-container-id-1 {color: black;background-color: white;}#sk-container-id-1 pre{padding: 0;}#sk-container-id-1 div.sk-toggleable {background-color: white;}#sk-container-id-1 label.sk-toggleable__label {cursor: pointer;display: block;width: 100%;margin-bottom: 0;padding: 0.3em;box-sizing: border-box;text-align: center;}#sk-container-id-1 label.sk-toggleable__label-arrow:before {content: \"▸\";float: left;margin-right: 0.25em;color: #696969;}#sk-container-id-1 label.sk-toggleable__label-arrow:hover:before {color: black;}#sk-container-id-1 div.sk-estimator:hover label.sk-toggleable__label-arrow:before {color: black;}#sk-container-id-1 div.sk-toggleable__content {max-height: 0;max-width: 0;overflow: hidden;text-align: left;background-color: #f0f8ff;}#sk-container-id-1 div.sk-toggleable__content pre {margin: 0.2em;color: black;border-radius: 0.25em;background-color: #f0f8ff;}#sk-container-id-1 input.sk-toggleable__control:checked~div.sk-toggleable__content {max-height: 200px;max-width: 100%;overflow: auto;}#sk-container-id-1 input.sk-toggleable__control:checked~label.sk-toggleable__label-arrow:before {content: \"▾\";}#sk-container-id-1 div.sk-estimator input.sk-toggleable__control:checked~label.sk-toggleable__label {background-color: #d4ebff;}#sk-container-id-1 div.sk-label input.sk-toggleable__control:checked~label.sk-toggleable__label {background-color: #d4ebff;}#sk-container-id-1 input.sk-hidden--visually {border: 0;clip: rect(1px 1px 1px 1px);clip: rect(1px, 1px, 1px, 1px);height: 1px;margin: -1px;overflow: hidden;padding: 0;position: absolute;width: 1px;}#sk-container-id-1 div.sk-estimator {font-family: monospace;background-color: #f0f8ff;border: 1px dotted black;border-radius: 0.25em;box-sizing: border-box;margin-bottom: 0.5em;}#sk-container-id-1 div.sk-estimator:hover {background-color: #d4ebff;}#sk-container-id-1 div.sk-parallel-item::after {content: \"\";width: 100%;border-bottom: 1px solid gray;flex-grow: 1;}#sk-container-id-1 div.sk-label:hover label.sk-toggleable__label {background-color: #d4ebff;}#sk-container-id-1 div.sk-serial::before {content: \"\";position: absolute;border-left: 1px solid gray;box-sizing: border-box;top: 0;bottom: 0;left: 50%;z-index: 0;}#sk-container-id-1 div.sk-serial {display: flex;flex-direction: column;align-items: center;background-color: white;padding-right: 0.2em;padding-left: 0.2em;position: relative;}#sk-container-id-1 div.sk-item {position: relative;z-index: 1;}#sk-container-id-1 div.sk-parallel {display: flex;align-items: stretch;justify-content: center;background-color: white;position: relative;}#sk-container-id-1 div.sk-item::before, #sk-container-id-1 div.sk-parallel-item::before {content: \"\";position: absolute;border-left: 1px solid gray;box-sizing: border-box;top: 0;bottom: 0;left: 50%;z-index: -1;}#sk-container-id-1 div.sk-parallel-item {display: flex;flex-direction: column;z-index: 1;position: relative;background-color: white;}#sk-container-id-1 div.sk-parallel-item:first-child::after {align-self: flex-end;width: 50%;}#sk-container-id-1 div.sk-parallel-item:last-child::after {align-self: flex-start;width: 50%;}#sk-container-id-1 div.sk-parallel-item:only-child::after {width: 0;}#sk-container-id-1 div.sk-dashed-wrapped {border: 1px dashed gray;margin: 0 0.4em 0.5em 0.4em;box-sizing: border-box;padding-bottom: 0.4em;background-color: white;}#sk-container-id-1 div.sk-label label {font-family: monospace;font-weight: bold;display: inline-block;line-height: 1.2em;}#sk-container-id-1 div.sk-label-container {text-align: center;}#sk-container-id-1 div.sk-container {/* jupyter's `normalize.less` sets `[hidden] { display: none; }` but bootstrap.min.css set `[hidden] { display: none !important; }` so we also need the `!important` here to be able to override the default hidden behavior on the sphinx rendered scikit-learn.org. See: https://github.com/scikit-learn/scikit-learn/issues/21755 */display: inline-block !important;position: relative;}#sk-container-id-1 div.sk-text-repr-fallback {display: none;}</style><div id=\"sk-container-id-1\" class=\"sk-top-container\"><div class=\"sk-text-repr-fallback\"><pre> ARIMA(0,0,0)(0,0,0)[0] intercept</pre><b>In a Jupyter environment, please rerun this cell to show the HTML representation or trust the notebook. <br />On GitHub, the HTML representation is unable to render, please try loading this page with nbviewer.org.</b></div><div class=\"sk-container\" hidden><div class=\"sk-item\"><div class=\"sk-estimator sk-toggleable\"><input class=\"sk-toggleable__control sk-hidden--visually\" id=\"sk-estimator-id-1\" type=\"checkbox\" checked><label for=\"sk-estimator-id-1\" class=\"sk-toggleable__label sk-toggleable__label-arrow\">ARIMA</label><div class=\"sk-toggleable__content\"><pre> ARIMA(0,0,0)(0,0,0)[0] intercept</pre></div></div></div></div></div>"
      ],
      "text/plain": [
       "ARIMA(order=(0, 0, 0), scoring_args={}, suppress_warnings=True)"
      ]
     },
     "execution_count": 49,
     "metadata": {},
     "output_type": "execute_result"
    }
   ],
   "source": [
    "auto_model.fit(y_train)"
   ]
  },
  {
   "cell_type": "code",
   "execution_count": 50,
   "id": "b27f26fd",
   "metadata": {
    "execution": {
     "iopub.execute_input": "2024-10-30T11:43:12.926313Z",
     "iopub.status.busy": "2024-10-30T11:43:12.925693Z",
     "iopub.status.idle": "2024-10-30T11:43:13.077250Z",
     "shell.execute_reply": "2024-10-30T11:43:13.075850Z"
    },
    "papermill": {
     "duration": 0.195877,
     "end_time": "2024-10-30T11:43:13.080571",
     "exception": false,
     "start_time": "2024-10-30T11:43:12.884694",
     "status": "completed"
    },
    "tags": []
   },
   "outputs": [
    {
     "name": "stderr",
     "output_type": "stream",
     "text": [
      "c:\\Users\\saich\\anaconda3\\Lib\\site-packages\\statsmodels\\tsa\\base\\tsa_model.py:836: ValueWarning: No supported index is available. Prediction results will be given with an integer index beginning at `start`.\n",
      "  return get_prediction_index(\n",
      "c:\\Users\\saich\\anaconda3\\Lib\\site-packages\\statsmodels\\tsa\\base\\tsa_model.py:836: FutureWarning: No supported index is available. In the next version, calling this method in a model without a supported index will result in an exception.\n",
      "  return get_prediction_index(\n"
     ]
    }
   ],
   "source": [
    "arima_pred = auto_model.predict(n_periods=len(y_test))"
   ]
  },
  {
   "cell_type": "code",
   "execution_count": 51,
   "id": "e1d1c8de",
   "metadata": {
    "execution": {
     "iopub.execute_input": "2024-10-30T11:43:13.128389Z",
     "iopub.status.busy": "2024-10-30T11:43:13.127944Z",
     "iopub.status.idle": "2024-10-30T11:43:13.209199Z",
     "shell.execute_reply": "2024-10-30T11:43:13.207850Z"
    },
    "papermill": {
     "duration": 0.109554,
     "end_time": "2024-10-30T11:43:13.212962",
     "exception": false,
     "start_time": "2024-10-30T11:43:13.103408",
     "status": "completed"
    },
    "tags": []
   },
   "outputs": [
    {
     "name": "stdout",
     "output_type": "stream",
     "text": [
      "                               SARIMAX Results                                \n",
      "==============================================================================\n",
      "Dep. Variable:                      y   No. Observations:                13028\n",
      "Model:                        SARIMAX   Log Likelihood              -33482.553\n",
      "Date:                Tue, 18 Mar 2025   AIC                          66969.107\n",
      "Time:                        20:40:38   BIC                          66984.057\n",
      "Sample:                             0   HQIC                         66974.101\n",
      "                              - 13028                                         \n",
      "Covariance Type:                  opg                                         \n",
      "==============================================================================\n",
      "                 coef    std err          z      P>|z|      [0.025      0.975]\n",
      "------------------------------------------------------------------------------\n",
      "intercept      5.3446      0.028    190.272      0.000       5.290       5.400\n",
      "sigma2         9.9963      0.213     46.877      0.000       9.578      10.414\n",
      "===================================================================================\n",
      "Ljung-Box (L1) (Q):                   0.25   Jarque-Bera (JB):               967.65\n",
      "Prob(Q):                              0.62   Prob(JB):                         0.00\n",
      "Heteroskedasticity (H):               0.99   Skew:                            -0.14\n",
      "Prob(H) (two-sided):                  0.69   Kurtosis:                         1.69\n",
      "===================================================================================\n",
      "\n",
      "Warnings:\n",
      "[1] Covariance matrix calculated using the outer product of gradients (complex-step).\n"
     ]
    }
   ],
   "source": [
    "print(auto_model.summary())"
   ]
  },
  {
   "cell_type": "code",
   "execution_count": 52,
   "id": "8f2cc67b",
   "metadata": {
    "execution": {
     "iopub.execute_input": "2024-10-30T11:43:13.294421Z",
     "iopub.status.busy": "2024-10-30T11:43:13.292901Z",
     "iopub.status.idle": "2024-10-30T11:43:13.301079Z",
     "shell.execute_reply": "2024-10-30T11:43:13.299874Z"
    },
    "papermill": {
     "duration": 0.051226,
     "end_time": "2024-10-30T11:43:13.303345",
     "exception": false,
     "start_time": "2024-10-30T11:43:13.252119",
     "status": "completed"
    },
    "tags": []
   },
   "outputs": [
    {
     "name": "stdout",
     "output_type": "stream",
     "text": [
      "Mean Squared Error: 10.087306182631005\n"
     ]
    }
   ],
   "source": [
    "mse = mean_squared_error(y_test, arima_pred)\n",
    "print(f'Mean Squared Error: {mse}')"
   ]
  },
  {
   "cell_type": "markdown",
   "id": "384229f1",
   "metadata": {
    "papermill": {
     "duration": 0.023166,
     "end_time": "2024-10-30T11:43:13.349593",
     "exception": false,
     "start_time": "2024-10-30T11:43:13.326427",
     "status": "completed"
    },
    "tags": []
   },
   "source": [
    "## SARIMAX"
   ]
  },
  {
   "cell_type": "code",
   "execution_count": 53,
   "id": "93de0984",
   "metadata": {
    "execution": {
     "iopub.execute_input": "2024-10-30T11:43:13.397701Z",
     "iopub.status.busy": "2024-10-30T11:43:13.397288Z",
     "iopub.status.idle": "2024-10-30T11:46:22.765884Z",
     "shell.execute_reply": "2024-10-30T11:46:22.764538Z"
    },
    "papermill": {
     "duration": 189.397197,
     "end_time": "2024-10-30T11:46:22.769473",
     "exception": false,
     "start_time": "2024-10-30T11:43:13.372276",
     "status": "completed"
    },
    "tags": []
   },
   "outputs": [
    {
     "name": "stdout",
     "output_type": "stream",
     "text": [
      "Performing stepwise search to minimize aic\n",
      " ARIMA(2,0,2)(1,0,1)[12] intercept   : AIC=inf, Time=48.80 sec\n",
      " ARIMA(0,0,0)(0,0,0)[12] intercept   : AIC=66969.107, Time=0.24 sec\n",
      " ARIMA(1,0,0)(1,0,0)[12] intercept   : AIC=66972.848, Time=9.00 sec\n",
      " ARIMA(0,0,1)(0,0,1)[12] intercept   : AIC=66972.847, Time=3.72 sec\n",
      " ARIMA(0,0,0)(0,0,0)[12]             : AIC=84555.456, Time=0.13 sec\n",
      " ARIMA(0,0,0)(1,0,0)[12] intercept   : AIC=66971.097, Time=5.02 sec\n",
      " ARIMA(0,0,0)(0,0,1)[12] intercept   : AIC=66971.097, Time=2.98 sec\n",
      " ARIMA(0,0,0)(1,0,1)[12] intercept   : AIC=inf, Time=28.70 sec\n",
      " ARIMA(1,0,0)(0,0,0)[12] intercept   : AIC=66970.861, Time=0.53 sec\n",
      " ARIMA(0,0,1)(0,0,0)[12] intercept   : AIC=66970.860, Time=1.00 sec\n",
      " ARIMA(1,0,1)(0,0,0)[12] intercept   : AIC=66972.862, Time=1.48 sec\n",
      "\n",
      "Best model:  ARIMA(0,0,0)(0,0,0)[12] intercept\n",
      "Total fit time: 101.713 seconds\n"
     ]
    }
   ],
   "source": [
    "auto_model = pm.auto_arima(y_train,seasonal=True, m=12,trace=True, error_action='ignore',suppress_warnings=True)"
   ]
  },
  {
   "cell_type": "code",
   "execution_count": 54,
   "id": "75bf430e",
   "metadata": {
    "execution": {
     "iopub.execute_input": "2024-10-30T11:46:22.832819Z",
     "iopub.status.busy": "2024-10-30T11:46:22.832337Z",
     "iopub.status.idle": "2024-10-30T11:46:23.269693Z",
     "shell.execute_reply": "2024-10-30T11:46:23.268142Z"
    },
    "papermill": {
     "duration": 0.467425,
     "end_time": "2024-10-30T11:46:23.273203",
     "exception": false,
     "start_time": "2024-10-30T11:46:22.805778",
     "status": "completed"
    },
    "tags": []
   },
   "outputs": [
    {
     "data": {
      "text/html": [
       "<style>#sk-container-id-2 {color: black;background-color: white;}#sk-container-id-2 pre{padding: 0;}#sk-container-id-2 div.sk-toggleable {background-color: white;}#sk-container-id-2 label.sk-toggleable__label {cursor: pointer;display: block;width: 100%;margin-bottom: 0;padding: 0.3em;box-sizing: border-box;text-align: center;}#sk-container-id-2 label.sk-toggleable__label-arrow:before {content: \"▸\";float: left;margin-right: 0.25em;color: #696969;}#sk-container-id-2 label.sk-toggleable__label-arrow:hover:before {color: black;}#sk-container-id-2 div.sk-estimator:hover label.sk-toggleable__label-arrow:before {color: black;}#sk-container-id-2 div.sk-toggleable__content {max-height: 0;max-width: 0;overflow: hidden;text-align: left;background-color: #f0f8ff;}#sk-container-id-2 div.sk-toggleable__content pre {margin: 0.2em;color: black;border-radius: 0.25em;background-color: #f0f8ff;}#sk-container-id-2 input.sk-toggleable__control:checked~div.sk-toggleable__content {max-height: 200px;max-width: 100%;overflow: auto;}#sk-container-id-2 input.sk-toggleable__control:checked~label.sk-toggleable__label-arrow:before {content: \"▾\";}#sk-container-id-2 div.sk-estimator input.sk-toggleable__control:checked~label.sk-toggleable__label {background-color: #d4ebff;}#sk-container-id-2 div.sk-label input.sk-toggleable__control:checked~label.sk-toggleable__label {background-color: #d4ebff;}#sk-container-id-2 input.sk-hidden--visually {border: 0;clip: rect(1px 1px 1px 1px);clip: rect(1px, 1px, 1px, 1px);height: 1px;margin: -1px;overflow: hidden;padding: 0;position: absolute;width: 1px;}#sk-container-id-2 div.sk-estimator {font-family: monospace;background-color: #f0f8ff;border: 1px dotted black;border-radius: 0.25em;box-sizing: border-box;margin-bottom: 0.5em;}#sk-container-id-2 div.sk-estimator:hover {background-color: #d4ebff;}#sk-container-id-2 div.sk-parallel-item::after {content: \"\";width: 100%;border-bottom: 1px solid gray;flex-grow: 1;}#sk-container-id-2 div.sk-label:hover label.sk-toggleable__label {background-color: #d4ebff;}#sk-container-id-2 div.sk-serial::before {content: \"\";position: absolute;border-left: 1px solid gray;box-sizing: border-box;top: 0;bottom: 0;left: 50%;z-index: 0;}#sk-container-id-2 div.sk-serial {display: flex;flex-direction: column;align-items: center;background-color: white;padding-right: 0.2em;padding-left: 0.2em;position: relative;}#sk-container-id-2 div.sk-item {position: relative;z-index: 1;}#sk-container-id-2 div.sk-parallel {display: flex;align-items: stretch;justify-content: center;background-color: white;position: relative;}#sk-container-id-2 div.sk-item::before, #sk-container-id-2 div.sk-parallel-item::before {content: \"\";position: absolute;border-left: 1px solid gray;box-sizing: border-box;top: 0;bottom: 0;left: 50%;z-index: -1;}#sk-container-id-2 div.sk-parallel-item {display: flex;flex-direction: column;z-index: 1;position: relative;background-color: white;}#sk-container-id-2 div.sk-parallel-item:first-child::after {align-self: flex-end;width: 50%;}#sk-container-id-2 div.sk-parallel-item:last-child::after {align-self: flex-start;width: 50%;}#sk-container-id-2 div.sk-parallel-item:only-child::after {width: 0;}#sk-container-id-2 div.sk-dashed-wrapped {border: 1px dashed gray;margin: 0 0.4em 0.5em 0.4em;box-sizing: border-box;padding-bottom: 0.4em;background-color: white;}#sk-container-id-2 div.sk-label label {font-family: monospace;font-weight: bold;display: inline-block;line-height: 1.2em;}#sk-container-id-2 div.sk-label-container {text-align: center;}#sk-container-id-2 div.sk-container {/* jupyter's `normalize.less` sets `[hidden] { display: none; }` but bootstrap.min.css set `[hidden] { display: none !important; }` so we also need the `!important` here to be able to override the default hidden behavior on the sphinx rendered scikit-learn.org. See: https://github.com/scikit-learn/scikit-learn/issues/21755 */display: inline-block !important;position: relative;}#sk-container-id-2 div.sk-text-repr-fallback {display: none;}</style><div id=\"sk-container-id-2\" class=\"sk-top-container\"><div class=\"sk-text-repr-fallback\"><pre> ARIMA(0,0,0)(0,0,0)[12] intercept</pre><b>In a Jupyter environment, please rerun this cell to show the HTML representation or trust the notebook. <br />On GitHub, the HTML representation is unable to render, please try loading this page with nbviewer.org.</b></div><div class=\"sk-container\" hidden><div class=\"sk-item\"><div class=\"sk-estimator sk-toggleable\"><input class=\"sk-toggleable__control sk-hidden--visually\" id=\"sk-estimator-id-2\" type=\"checkbox\" checked><label for=\"sk-estimator-id-2\" class=\"sk-toggleable__label sk-toggleable__label-arrow\">ARIMA</label><div class=\"sk-toggleable__content\"><pre> ARIMA(0,0,0)(0,0,0)[12] intercept</pre></div></div></div></div></div>"
      ],
      "text/plain": [
       "ARIMA(order=(0, 0, 0), scoring_args={}, seasonal_order=(0, 0, 0, 12),\n",
       "      suppress_warnings=True)"
      ]
     },
     "execution_count": 54,
     "metadata": {},
     "output_type": "execute_result"
    }
   ],
   "source": [
    "auto_model.fit(y_train)"
   ]
  },
  {
   "cell_type": "code",
   "execution_count": 55,
   "id": "cd316edb",
   "metadata": {
    "execution": {
     "iopub.execute_input": "2024-10-30T11:46:23.357350Z",
     "iopub.status.busy": "2024-10-30T11:46:23.356736Z",
     "iopub.status.idle": "2024-10-30T11:46:23.515779Z",
     "shell.execute_reply": "2024-10-30T11:46:23.513717Z"
    },
    "papermill": {
     "duration": 0.204842,
     "end_time": "2024-10-30T11:46:23.518288",
     "exception": false,
     "start_time": "2024-10-30T11:46:23.313446",
     "status": "completed"
    },
    "tags": []
   },
   "outputs": [
    {
     "name": "stderr",
     "output_type": "stream",
     "text": [
      "c:\\Users\\saich\\anaconda3\\Lib\\site-packages\\statsmodels\\tsa\\base\\tsa_model.py:836: ValueWarning: No supported index is available. Prediction results will be given with an integer index beginning at `start`.\n",
      "  return get_prediction_index(\n",
      "c:\\Users\\saich\\anaconda3\\Lib\\site-packages\\statsmodels\\tsa\\base\\tsa_model.py:836: FutureWarning: No supported index is available. In the next version, calling this method in a model without a supported index will result in an exception.\n",
      "  return get_prediction_index(\n"
     ]
    }
   ],
   "source": [
    "sarimax_pred = auto_model.predict(n_periods=len(y_test))"
   ]
  },
  {
   "cell_type": "code",
   "execution_count": 56,
   "id": "9ec9c462",
   "metadata": {
    "execution": {
     "iopub.execute_input": "2024-10-30T11:46:23.568815Z",
     "iopub.status.busy": "2024-10-30T11:46:23.567902Z",
     "iopub.status.idle": "2024-10-30T11:46:23.649757Z",
     "shell.execute_reply": "2024-10-30T11:46:23.648533Z"
    },
    "papermill": {
     "duration": 0.110567,
     "end_time": "2024-10-30T11:46:23.652682",
     "exception": false,
     "start_time": "2024-10-30T11:46:23.542115",
     "status": "completed"
    },
    "tags": []
   },
   "outputs": [
    {
     "name": "stdout",
     "output_type": "stream",
     "text": [
      "                               SARIMAX Results                                \n",
      "==============================================================================\n",
      "Dep. Variable:                      y   No. Observations:                13028\n",
      "Model:                        SARIMAX   Log Likelihood              -33482.553\n",
      "Date:                Tue, 18 Mar 2025   AIC                          66969.107\n",
      "Time:                        20:42:21   BIC                          66984.057\n",
      "Sample:                             0   HQIC                         66974.101\n",
      "                              - 13028                                         \n",
      "Covariance Type:                  opg                                         \n",
      "==============================================================================\n",
      "                 coef    std err          z      P>|z|      [0.025      0.975]\n",
      "------------------------------------------------------------------------------\n",
      "intercept      5.3446      0.028    190.272      0.000       5.290       5.400\n",
      "sigma2         9.9963      0.213     46.877      0.000       9.578      10.414\n",
      "===================================================================================\n",
      "Ljung-Box (L1) (Q):                   0.25   Jarque-Bera (JB):               967.65\n",
      "Prob(Q):                              0.62   Prob(JB):                         0.00\n",
      "Heteroskedasticity (H):               0.99   Skew:                            -0.14\n",
      "Prob(H) (two-sided):                  0.69   Kurtosis:                         1.69\n",
      "===================================================================================\n",
      "\n",
      "Warnings:\n",
      "[1] Covariance matrix calculated using the outer product of gradients (complex-step).\n"
     ]
    }
   ],
   "source": [
    "print(auto_model.summary())"
   ]
  },
  {
   "cell_type": "code",
   "execution_count": 57,
   "id": "5764f46a",
   "metadata": {
    "execution": {
     "iopub.execute_input": "2024-10-30T11:46:23.739299Z",
     "iopub.status.busy": "2024-10-30T11:46:23.738873Z",
     "iopub.status.idle": "2024-10-30T11:46:23.746370Z",
     "shell.execute_reply": "2024-10-30T11:46:23.744950Z"
    },
    "papermill": {
     "duration": 0.049586,
     "end_time": "2024-10-30T11:46:23.749010",
     "exception": false,
     "start_time": "2024-10-30T11:46:23.699424",
     "status": "completed"
    },
    "tags": []
   },
   "outputs": [
    {
     "name": "stdout",
     "output_type": "stream",
     "text": [
      "Mean Squared Error (SARIMAX): 10.087306182631005\n"
     ]
    }
   ],
   "source": [
    "mse = mean_squared_error(y_test, sarimax_pred)\n",
    "print(f'Mean Squared Error (SARIMAX): {mse}')"
   ]
  }
 ],
 "metadata": {
  "kaggle": {
   "accelerator": "none",
   "dataSources": [
    {
     "datasetId": 695144,
     "sourceId": 1228449,
     "sourceType": "datasetVersion"
    }
   ],
   "dockerImageVersionId": 30786,
   "isGpuEnabled": false,
   "isInternetEnabled": true,
   "language": "python",
   "sourceType": "notebook"
  },
  "kernelspec": {
   "display_name": "base",
   "language": "python",
   "name": "python3"
  },
  "language_info": {
   "codemirror_mode": {
    "name": "ipython",
    "version": 3
   },
   "file_extension": ".py",
   "mimetype": "text/x-python",
   "name": "python",
   "nbconvert_exporter": "python",
   "pygments_lexer": "ipython3",
   "version": "3.11.7"
  },
  "papermill": {
   "default_parameters": {},
   "duration": 301.480555,
   "end_time": "2024-10-30T11:46:24.595903",
   "environment_variables": {},
   "exception": null,
   "input_path": "__notebook__.ipynb",
   "output_path": "__notebook__.ipynb",
   "parameters": {},
   "start_time": "2024-10-30T11:41:23.115348",
   "version": "2.6.0"
  }
 },
 "nbformat": 4,
 "nbformat_minor": 5
}
